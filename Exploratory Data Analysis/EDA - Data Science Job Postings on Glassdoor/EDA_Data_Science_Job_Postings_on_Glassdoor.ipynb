{
  "nbformat": 4,
  "nbformat_minor": 0,
  "metadata": {
    "colab": {
      "provenance": []
    },
    "kernelspec": {
      "name": "python3",
      "display_name": "Python 3"
    },
    "language_info": {
      "name": "python"
    }
  },
  "cells": [
    {
      "cell_type": "code",
      "execution_count": 2,
      "metadata": {
        "id": "UqpV5qx0hq8P"
      },
      "outputs": [],
      "source": [
        "import pandas as pd"
      ]
    },
    {
      "cell_type": "code",
      "source": [
        "#Import the dataset\n",
        "url = 'https://raw.githubusercontent.com/CodeBlock980/MachineLearningPersonal/refs/heads/main/Exploratory%20Data%20Analysis/EDA%20-%20Data%20Science%20Job%20Postings%20on%20Glassdoor/job_postings.csv'\n",
        "jobs = pd.read_csv(url)\n",
        "jobs.head()"
      ],
      "metadata": {
        "colab": {
          "base_uri": "https://localhost:8080/",
          "height": 486
        },
        "id": "OeIc8qumh84G",
        "outputId": "62a3a7d3-a240-4d3e-e5eb-1fe4fccbaef9"
      },
      "execution_count": 3,
      "outputs": [
        {
          "output_type": "execute_result",
          "data": {
            "text/plain": [
              "   index          Job Title               Salary Estimate  \\\n",
              "0      0  Sr Data Scientist  $137K-$171K (Glassdoor est.)   \n",
              "1      1     Data Scientist  $137K-$171K (Glassdoor est.)   \n",
              "2      2     Data Scientist  $137K-$171K (Glassdoor est.)   \n",
              "3      3     Data Scientist  $137K-$171K (Glassdoor est.)   \n",
              "4      4     Data Scientist  $137K-$171K (Glassdoor est.)   \n",
              "\n",
              "                                     Job Description  Rating  \\\n",
              "0  Description\\n\\nThe Senior Data Scientist is re...     3.1   \n",
              "1  Secure our Nation, Ignite your Future\\n\\nJoin ...     4.2   \n",
              "2  Overview\\n\\n\\nAnalysis Group is one of the lar...     3.8   \n",
              "3  JOB DESCRIPTION:\\n\\nDo you have a passion for ...     3.5   \n",
              "4  Data Scientist\\nAffinity Solutions / Marketing...     2.9   \n",
              "\n",
              "              Company Name       Location            Headquarters  \\\n",
              "0         Healthfirst\\n3.1   New York, NY            New York, NY   \n",
              "1             ManTech\\n4.2  Chantilly, VA             Herndon, VA   \n",
              "2      Analysis Group\\n3.8     Boston, MA              Boston, MA   \n",
              "3             INFICON\\n3.5     Newton, MA  Bad Ragaz, Switzerland   \n",
              "4  Affinity Solutions\\n2.9   New York, NY            New York, NY   \n",
              "\n",
              "                      Size  Founded        Type of ownership  \\\n",
              "0   1001 to 5000 employees     1993   Nonprofit Organization   \n",
              "1  5001 to 10000 employees     1968         Company - Public   \n",
              "2   1001 to 5000 employees     1981  Private Practice / Firm   \n",
              "3    501 to 1000 employees     2000         Company - Public   \n",
              "4      51 to 200 employees     1998        Company - Private   \n",
              "\n",
              "                                Industry             Sector  \\\n",
              "0                     Insurance Carriers          Insurance   \n",
              "1                 Research & Development  Business Services   \n",
              "2                             Consulting  Business Services   \n",
              "3  Electrical & Electronic Manufacturing      Manufacturing   \n",
              "4                Advertising & Marketing  Business Services   \n",
              "\n",
              "                      Revenue  \\\n",
              "0    Unknown / Non-Applicable   \n",
              "1      $1 to $2 billion (USD)   \n",
              "2  $100 to $500 million (USD)   \n",
              "3  $100 to $500 million (USD)   \n",
              "4    Unknown / Non-Applicable   \n",
              "\n",
              "                                         Competitors  \n",
              "0            EmblemHealth, UnitedHealth Group, Aetna  \n",
              "1                                                 -1  \n",
              "2                                                 -1  \n",
              "3  MKS Instruments, Pfeiffer Vacuum, Agilent Tech...  \n",
              "4               Commerce Signals, Cardlytics, Yodlee  "
            ],
            "text/html": [
              "\n",
              "  <div id=\"df-d0f8600a-b6e8-498f-bced-457a613b2749\" class=\"colab-df-container\">\n",
              "    <div>\n",
              "<style scoped>\n",
              "    .dataframe tbody tr th:only-of-type {\n",
              "        vertical-align: middle;\n",
              "    }\n",
              "\n",
              "    .dataframe tbody tr th {\n",
              "        vertical-align: top;\n",
              "    }\n",
              "\n",
              "    .dataframe thead th {\n",
              "        text-align: right;\n",
              "    }\n",
              "</style>\n",
              "<table border=\"1\" class=\"dataframe\">\n",
              "  <thead>\n",
              "    <tr style=\"text-align: right;\">\n",
              "      <th></th>\n",
              "      <th>index</th>\n",
              "      <th>Job Title</th>\n",
              "      <th>Salary Estimate</th>\n",
              "      <th>Job Description</th>\n",
              "      <th>Rating</th>\n",
              "      <th>Company Name</th>\n",
              "      <th>Location</th>\n",
              "      <th>Headquarters</th>\n",
              "      <th>Size</th>\n",
              "      <th>Founded</th>\n",
              "      <th>Type of ownership</th>\n",
              "      <th>Industry</th>\n",
              "      <th>Sector</th>\n",
              "      <th>Revenue</th>\n",
              "      <th>Competitors</th>\n",
              "    </tr>\n",
              "  </thead>\n",
              "  <tbody>\n",
              "    <tr>\n",
              "      <th>0</th>\n",
              "      <td>0</td>\n",
              "      <td>Sr Data Scientist</td>\n",
              "      <td>$137K-$171K (Glassdoor est.)</td>\n",
              "      <td>Description\\n\\nThe Senior Data Scientist is re...</td>\n",
              "      <td>3.1</td>\n",
              "      <td>Healthfirst\\n3.1</td>\n",
              "      <td>New York, NY</td>\n",
              "      <td>New York, NY</td>\n",
              "      <td>1001 to 5000 employees</td>\n",
              "      <td>1993</td>\n",
              "      <td>Nonprofit Organization</td>\n",
              "      <td>Insurance Carriers</td>\n",
              "      <td>Insurance</td>\n",
              "      <td>Unknown / Non-Applicable</td>\n",
              "      <td>EmblemHealth, UnitedHealth Group, Aetna</td>\n",
              "    </tr>\n",
              "    <tr>\n",
              "      <th>1</th>\n",
              "      <td>1</td>\n",
              "      <td>Data Scientist</td>\n",
              "      <td>$137K-$171K (Glassdoor est.)</td>\n",
              "      <td>Secure our Nation, Ignite your Future\\n\\nJoin ...</td>\n",
              "      <td>4.2</td>\n",
              "      <td>ManTech\\n4.2</td>\n",
              "      <td>Chantilly, VA</td>\n",
              "      <td>Herndon, VA</td>\n",
              "      <td>5001 to 10000 employees</td>\n",
              "      <td>1968</td>\n",
              "      <td>Company - Public</td>\n",
              "      <td>Research &amp; Development</td>\n",
              "      <td>Business Services</td>\n",
              "      <td>$1 to $2 billion (USD)</td>\n",
              "      <td>-1</td>\n",
              "    </tr>\n",
              "    <tr>\n",
              "      <th>2</th>\n",
              "      <td>2</td>\n",
              "      <td>Data Scientist</td>\n",
              "      <td>$137K-$171K (Glassdoor est.)</td>\n",
              "      <td>Overview\\n\\n\\nAnalysis Group is one of the lar...</td>\n",
              "      <td>3.8</td>\n",
              "      <td>Analysis Group\\n3.8</td>\n",
              "      <td>Boston, MA</td>\n",
              "      <td>Boston, MA</td>\n",
              "      <td>1001 to 5000 employees</td>\n",
              "      <td>1981</td>\n",
              "      <td>Private Practice / Firm</td>\n",
              "      <td>Consulting</td>\n",
              "      <td>Business Services</td>\n",
              "      <td>$100 to $500 million (USD)</td>\n",
              "      <td>-1</td>\n",
              "    </tr>\n",
              "    <tr>\n",
              "      <th>3</th>\n",
              "      <td>3</td>\n",
              "      <td>Data Scientist</td>\n",
              "      <td>$137K-$171K (Glassdoor est.)</td>\n",
              "      <td>JOB DESCRIPTION:\\n\\nDo you have a passion for ...</td>\n",
              "      <td>3.5</td>\n",
              "      <td>INFICON\\n3.5</td>\n",
              "      <td>Newton, MA</td>\n",
              "      <td>Bad Ragaz, Switzerland</td>\n",
              "      <td>501 to 1000 employees</td>\n",
              "      <td>2000</td>\n",
              "      <td>Company - Public</td>\n",
              "      <td>Electrical &amp; Electronic Manufacturing</td>\n",
              "      <td>Manufacturing</td>\n",
              "      <td>$100 to $500 million (USD)</td>\n",
              "      <td>MKS Instruments, Pfeiffer Vacuum, Agilent Tech...</td>\n",
              "    </tr>\n",
              "    <tr>\n",
              "      <th>4</th>\n",
              "      <td>4</td>\n",
              "      <td>Data Scientist</td>\n",
              "      <td>$137K-$171K (Glassdoor est.)</td>\n",
              "      <td>Data Scientist\\nAffinity Solutions / Marketing...</td>\n",
              "      <td>2.9</td>\n",
              "      <td>Affinity Solutions\\n2.9</td>\n",
              "      <td>New York, NY</td>\n",
              "      <td>New York, NY</td>\n",
              "      <td>51 to 200 employees</td>\n",
              "      <td>1998</td>\n",
              "      <td>Company - Private</td>\n",
              "      <td>Advertising &amp; Marketing</td>\n",
              "      <td>Business Services</td>\n",
              "      <td>Unknown / Non-Applicable</td>\n",
              "      <td>Commerce Signals, Cardlytics, Yodlee</td>\n",
              "    </tr>\n",
              "  </tbody>\n",
              "</table>\n",
              "</div>\n",
              "    <div class=\"colab-df-buttons\">\n",
              "\n",
              "  <div class=\"colab-df-container\">\n",
              "    <button class=\"colab-df-convert\" onclick=\"convertToInteractive('df-d0f8600a-b6e8-498f-bced-457a613b2749')\"\n",
              "            title=\"Convert this dataframe to an interactive table.\"\n",
              "            style=\"display:none;\">\n",
              "\n",
              "  <svg xmlns=\"http://www.w3.org/2000/svg\" height=\"24px\" viewBox=\"0 -960 960 960\">\n",
              "    <path d=\"M120-120v-720h720v720H120Zm60-500h600v-160H180v160Zm220 220h160v-160H400v160Zm0 220h160v-160H400v160ZM180-400h160v-160H180v160Zm440 0h160v-160H620v160ZM180-180h160v-160H180v160Zm440 0h160v-160H620v160Z\"/>\n",
              "  </svg>\n",
              "    </button>\n",
              "\n",
              "  <style>\n",
              "    .colab-df-container {\n",
              "      display:flex;\n",
              "      gap: 12px;\n",
              "    }\n",
              "\n",
              "    .colab-df-convert {\n",
              "      background-color: #E8F0FE;\n",
              "      border: none;\n",
              "      border-radius: 50%;\n",
              "      cursor: pointer;\n",
              "      display: none;\n",
              "      fill: #1967D2;\n",
              "      height: 32px;\n",
              "      padding: 0 0 0 0;\n",
              "      width: 32px;\n",
              "    }\n",
              "\n",
              "    .colab-df-convert:hover {\n",
              "      background-color: #E2EBFA;\n",
              "      box-shadow: 0px 1px 2px rgba(60, 64, 67, 0.3), 0px 1px 3px 1px rgba(60, 64, 67, 0.15);\n",
              "      fill: #174EA6;\n",
              "    }\n",
              "\n",
              "    .colab-df-buttons div {\n",
              "      margin-bottom: 4px;\n",
              "    }\n",
              "\n",
              "    [theme=dark] .colab-df-convert {\n",
              "      background-color: #3B4455;\n",
              "      fill: #D2E3FC;\n",
              "    }\n",
              "\n",
              "    [theme=dark] .colab-df-convert:hover {\n",
              "      background-color: #434B5C;\n",
              "      box-shadow: 0px 1px 3px 1px rgba(0, 0, 0, 0.15);\n",
              "      filter: drop-shadow(0px 1px 2px rgba(0, 0, 0, 0.3));\n",
              "      fill: #FFFFFF;\n",
              "    }\n",
              "  </style>\n",
              "\n",
              "    <script>\n",
              "      const buttonEl =\n",
              "        document.querySelector('#df-d0f8600a-b6e8-498f-bced-457a613b2749 button.colab-df-convert');\n",
              "      buttonEl.style.display =\n",
              "        google.colab.kernel.accessAllowed ? 'block' : 'none';\n",
              "\n",
              "      async function convertToInteractive(key) {\n",
              "        const element = document.querySelector('#df-d0f8600a-b6e8-498f-bced-457a613b2749');\n",
              "        const dataTable =\n",
              "          await google.colab.kernel.invokeFunction('convertToInteractive',\n",
              "                                                    [key], {});\n",
              "        if (!dataTable) return;\n",
              "\n",
              "        const docLinkHtml = 'Like what you see? Visit the ' +\n",
              "          '<a target=\"_blank\" href=https://colab.research.google.com/notebooks/data_table.ipynb>data table notebook</a>'\n",
              "          + ' to learn more about interactive tables.';\n",
              "        element.innerHTML = '';\n",
              "        dataTable['output_type'] = 'display_data';\n",
              "        await google.colab.output.renderOutput(dataTable, element);\n",
              "        const docLink = document.createElement('div');\n",
              "        docLink.innerHTML = docLinkHtml;\n",
              "        element.appendChild(docLink);\n",
              "      }\n",
              "    </script>\n",
              "  </div>\n",
              "\n",
              "\n",
              "<div id=\"df-1ca2b1e7-3b1d-4089-8efd-a0d75ee04553\">\n",
              "  <button class=\"colab-df-quickchart\" onclick=\"quickchart('df-1ca2b1e7-3b1d-4089-8efd-a0d75ee04553')\"\n",
              "            title=\"Suggest charts\"\n",
              "            style=\"display:none;\">\n",
              "\n",
              "<svg xmlns=\"http://www.w3.org/2000/svg\" height=\"24px\"viewBox=\"0 0 24 24\"\n",
              "     width=\"24px\">\n",
              "    <g>\n",
              "        <path d=\"M19 3H5c-1.1 0-2 .9-2 2v14c0 1.1.9 2 2 2h14c1.1 0 2-.9 2-2V5c0-1.1-.9-2-2-2zM9 17H7v-7h2v7zm4 0h-2V7h2v10zm4 0h-2v-4h2v4z\"/>\n",
              "    </g>\n",
              "</svg>\n",
              "  </button>\n",
              "\n",
              "<style>\n",
              "  .colab-df-quickchart {\n",
              "      --bg-color: #E8F0FE;\n",
              "      --fill-color: #1967D2;\n",
              "      --hover-bg-color: #E2EBFA;\n",
              "      --hover-fill-color: #174EA6;\n",
              "      --disabled-fill-color: #AAA;\n",
              "      --disabled-bg-color: #DDD;\n",
              "  }\n",
              "\n",
              "  [theme=dark] .colab-df-quickchart {\n",
              "      --bg-color: #3B4455;\n",
              "      --fill-color: #D2E3FC;\n",
              "      --hover-bg-color: #434B5C;\n",
              "      --hover-fill-color: #FFFFFF;\n",
              "      --disabled-bg-color: #3B4455;\n",
              "      --disabled-fill-color: #666;\n",
              "  }\n",
              "\n",
              "  .colab-df-quickchart {\n",
              "    background-color: var(--bg-color);\n",
              "    border: none;\n",
              "    border-radius: 50%;\n",
              "    cursor: pointer;\n",
              "    display: none;\n",
              "    fill: var(--fill-color);\n",
              "    height: 32px;\n",
              "    padding: 0;\n",
              "    width: 32px;\n",
              "  }\n",
              "\n",
              "  .colab-df-quickchart:hover {\n",
              "    background-color: var(--hover-bg-color);\n",
              "    box-shadow: 0 1px 2px rgba(60, 64, 67, 0.3), 0 1px 3px 1px rgba(60, 64, 67, 0.15);\n",
              "    fill: var(--button-hover-fill-color);\n",
              "  }\n",
              "\n",
              "  .colab-df-quickchart-complete:disabled,\n",
              "  .colab-df-quickchart-complete:disabled:hover {\n",
              "    background-color: var(--disabled-bg-color);\n",
              "    fill: var(--disabled-fill-color);\n",
              "    box-shadow: none;\n",
              "  }\n",
              "\n",
              "  .colab-df-spinner {\n",
              "    border: 2px solid var(--fill-color);\n",
              "    border-color: transparent;\n",
              "    border-bottom-color: var(--fill-color);\n",
              "    animation:\n",
              "      spin 1s steps(1) infinite;\n",
              "  }\n",
              "\n",
              "  @keyframes spin {\n",
              "    0% {\n",
              "      border-color: transparent;\n",
              "      border-bottom-color: var(--fill-color);\n",
              "      border-left-color: var(--fill-color);\n",
              "    }\n",
              "    20% {\n",
              "      border-color: transparent;\n",
              "      border-left-color: var(--fill-color);\n",
              "      border-top-color: var(--fill-color);\n",
              "    }\n",
              "    30% {\n",
              "      border-color: transparent;\n",
              "      border-left-color: var(--fill-color);\n",
              "      border-top-color: var(--fill-color);\n",
              "      border-right-color: var(--fill-color);\n",
              "    }\n",
              "    40% {\n",
              "      border-color: transparent;\n",
              "      border-right-color: var(--fill-color);\n",
              "      border-top-color: var(--fill-color);\n",
              "    }\n",
              "    60% {\n",
              "      border-color: transparent;\n",
              "      border-right-color: var(--fill-color);\n",
              "    }\n",
              "    80% {\n",
              "      border-color: transparent;\n",
              "      border-right-color: var(--fill-color);\n",
              "      border-bottom-color: var(--fill-color);\n",
              "    }\n",
              "    90% {\n",
              "      border-color: transparent;\n",
              "      border-bottom-color: var(--fill-color);\n",
              "    }\n",
              "  }\n",
              "</style>\n",
              "\n",
              "  <script>\n",
              "    async function quickchart(key) {\n",
              "      const quickchartButtonEl =\n",
              "        document.querySelector('#' + key + ' button');\n",
              "      quickchartButtonEl.disabled = true;  // To prevent multiple clicks.\n",
              "      quickchartButtonEl.classList.add('colab-df-spinner');\n",
              "      try {\n",
              "        const charts = await google.colab.kernel.invokeFunction(\n",
              "            'suggestCharts', [key], {});\n",
              "      } catch (error) {\n",
              "        console.error('Error during call to suggestCharts:', error);\n",
              "      }\n",
              "      quickchartButtonEl.classList.remove('colab-df-spinner');\n",
              "      quickchartButtonEl.classList.add('colab-df-quickchart-complete');\n",
              "    }\n",
              "    (() => {\n",
              "      let quickchartButtonEl =\n",
              "        document.querySelector('#df-1ca2b1e7-3b1d-4089-8efd-a0d75ee04553 button');\n",
              "      quickchartButtonEl.style.display =\n",
              "        google.colab.kernel.accessAllowed ? 'block' : 'none';\n",
              "    })();\n",
              "  </script>\n",
              "</div>\n",
              "\n",
              "    </div>\n",
              "  </div>\n"
            ],
            "application/vnd.google.colaboratory.intrinsic+json": {
              "type": "dataframe",
              "variable_name": "jobs",
              "summary": "{\n  \"name\": \"jobs\",\n  \"rows\": 672,\n  \"fields\": [\n    {\n      \"column\": \"index\",\n      \"properties\": {\n        \"dtype\": \"number\",\n        \"std\": 194,\n        \"min\": 0,\n        \"max\": 671,\n        \"num_unique_values\": 672,\n        \"samples\": [\n          361,\n          158,\n          481\n        ],\n        \"semantic_type\": \"\",\n        \"description\": \"\"\n      }\n    },\n    {\n      \"column\": \"Job Title\",\n      \"properties\": {\n        \"dtype\": \"category\",\n        \"num_unique_values\": 172,\n        \"samples\": [\n          \"Senior Data & Machine Learning Scientist\",\n          \"Weapons and Sensors Engineer/Scientist\",\n          \"Data Science Analyst\"\n        ],\n        \"semantic_type\": \"\",\n        \"description\": \"\"\n      }\n    },\n    {\n      \"column\": \"Salary Estimate\",\n      \"properties\": {\n        \"dtype\": \"category\",\n        \"num_unique_values\": 30,\n        \"samples\": [\n          \"$87K-$141K (Glassdoor est.)\",\n          \"$112K-$116K (Glassdoor est.)\",\n          \"$66K-$112K (Glassdoor est.)\"\n        ],\n        \"semantic_type\": \"\",\n        \"description\": \"\"\n      }\n    },\n    {\n      \"column\": \"Job Description\",\n      \"properties\": {\n        \"dtype\": \"string\",\n        \"num_unique_values\": 489,\n        \"samples\": [\n          \"Data Engineer\\n\\nDescription\\nUST Global is looking for Data Engineer to build end to end business solutions and to work with one of the leading healthcare providers in US. The ideal candidate must possess excellent background on Kafka. The candidate must possess excellent written and verbal communication skills with the ability and collaborate effectively with domain and technical experts in the team\\nRequirements\\nData engineering services required\\nBuild data products and processes alongside the core engineering and technology team\\nCollaborate with senior data scientists to curate, wrangle, and prepare data for use in their advanced analytical models\\nIntegrate data from a variety of sources, assuring that they adhere to data quality and accessibility standards\\nModify and improve data engineering processes to handle ever larger, more complex, and more types of data sources and pipelines\\nUse Hadoop architecture and HDFS commands to design and optimize data queries at scale\\nEvaluate and experiment with novel data engineering tools and advises information technology leads and partners about new capabilities to determine optimal solutions for particular technical problems or designated use cases\\nBig data engineering skills\\n5 years of hands on experience in one or more modern Object Oriented Programming languages Java, Scala, Python including the ability to code in more than one programming language.\\n5 years of hands on experience applying principles, best practices, and trade offs of schema design to different database systems, including relational Oracle, MSSQL, Postgres, MySQL and NoSQL HBase, Cassandra, MongoDB\\n2 years of hands on experience implementing batch and real time data integration frameworks and or applications in private or public cloud environments AWS, Azure, GCP, etc. using various technologies Hadoop, Spark, Impala, etc. , including assessing performance, debugging, and fine tuning those systems\\nDeep understanding of the latest data science and data engineering methods and processes to develop impactful and reusable patterns and abstractions from enterprise level data assets\\n3 years of hands on experience in all phases of data modeling from conceptualization to database optimization\\nDemonstrated ability to perform the engineering necessary to acquire, ingest, cleanse, integrate, and structure massive volumes of data from multiple sources and systems into enterprise analytics platforms\\nProven ability to design and optimize queries to build scalable, modular, efficient data pipelines\\nAbility to work across structured, semi structured, and unstructured data, extracting information and identifying linkages across disparate data sets\\nProven experience delivering production ready data engineering solutions, including requirements definition, architecture selection, prototype development, debugging, unit testing, deployment, support, and maintenance\\nAbility to operate with a variety of data engineering tools and technologies vendor agnostic candidates preferred\\nDomain and industry knowledge\\nStrong collaboration and communication skills to work within and across technology teams and business units\\nDemonstrates the curiosity, interpersonal abilities, and organizational skills necessary to serve as a consulting partner, includes the ability to uncover, understand, and assess the needs of various business stakeholders\\nExperience with problem discovery, solution design, and insight delivery that involves frequent interaction, education, engagement, and evangelism with senior executives\\nIdeal candidate will have extensive experience with the creation and delivery of advanced analytics solutions for healthcare payers or insurance companies, including anomaly detection, provider optimization, studies of sources of fraud, waste, and abuse, and analysis of clinical and economic outcomes of treatment and wellness programs involving medical or pharmacy claims data, electronic medical record data, or other health data\\nExperience with healthcare providers, pharma, or life sciences is a plus\\nExperience with Kafka is required\\nLocation\\nThis position is based in Atlanta, GA Chicago, IL Chandler AZ Richmond VA Norfork VA Mason OH Work from home in any of the above mentioned locations is acceptable but not preferred. UST will provide relocation assistance for full time employment.\\n\\nBTECH or higher\",\n          \"We love programming and the excitement that comes with building something people use. We are the kind of people that love talking to users and can find the balance between solving a problem quickly and thinking about how your code will work in the future. We love to move fast, keep learning and get stuff done.\\n\\nOur data science team is still in its early days and you'll have a big impact on our direction and how we operate. You'll be central to researching, developing and shipping products that help our customers learn and grow from their data. For this role, we're looking for people who have developed split brains--software engineers who have become great at writing machine learning code or data scientists who have become great software developers.\\n\\nTechnologies we use (not comprehensive!):\\nPython\\n\\nNumpy, Scipy, Pandas\\n\\nAurora, Cassandra, Kafka\\n\\nHTML, JavaScript, React\\n\\nSageMaker\\n\\nHow you will make a difference:\\n\\n\\nAnalyze large data sets (we're collecting billions of individual actions every month).\\nBuild products that enable our customers to grow faster and communicate more effectively with their customers.\\nDevelop machine learning models and pipelines for research and production.\\n\\nWho You Are:\\n\\n\\nHave experience implementing machine learning models, data pipelines and testing frameworks for research and production use.\\nHave demonstrated a measurable impact based on the models you've created. It's not always easy getting a model correct, we love talking about places we got stuck and work as a team to think through ideas that could unblock us.\\nHave experience processing cloud-scale data using parallel, elastic, streaming and similar techniques.\\nEnjoy tuning and validating machine learning models and take a rigorous approach.\\nUnderstand how to profile code and optimize performance.\\nAspire to correctness (e.g. in your code, in drawing conclusions from data)\\nHave a bachelor's or advanced degree in computer science, applied math, statistics or other relevant quantitative discipline, or equivalent industry experience.\\n\\nGet to know Klaviyo\\n\\nKlaviyo is the world's leading owned marketing platform known for accelerating revenue for online businesses using the channels they own like email, web, and mobile. Enabling companies to leverage these owned marketing channels, Klaviyo makes it easy to store, access, analyze and use transactional and behavioral data to power highly-targeted customer and prospect communications. And unlike other marketing platforms, Klaviyo doesn't force companies to compromise between advanced functionality or ease of use - so companies of all sizes are able to maximize their sales quickly. That's why over 28,000+ innovative companies like Unilever, Custom Ink and Eventbrite sell more with Klaviyo.\",\n          \"At Alector, our mission is to develop therapies that empower the immune system to cure neurodegeneration. Our team is solely focused on developing cures for some of the most challenging diseases facing our society. We are supported in this mission by experienced and accomplished scientists and board members, leading healthcare investors and some of the most innovative pharma companies.\\n\\nPlease join us in driving the development of new therapies that seek to transform patients' lives. Autonomy and collaboration in tackling challenges is what you are seeking and would like to be part of a hardworking team where everyone has a voice, please join in our mission!\\nAs the Head of Biometrics and Data Management, you will help in developing a strategy and support execution of our development programs. You will have the responsibility and contribute across assigned clinical trials across our therapeutic areas.\\nDuring your first year, your goals will include:\\nDefine how you will contribute to Alector's overall 3-5 year vision to continually improve our clinical development strategy\\nLead and build world-class biostatistics and group.\\nWork in collaboration with internal and external partners in the study design, support endpoint selection and sample size calculations, analysis, interpretation, and publication of clinical trial data\\nExecute protocols, statistical analysis plans, study reports, ensure statistical integrity of presentations and publications of clinical studies by applying your past experiences and provide oversight to data management processes and team\\nLead and work on significant and unique issues that require exercising independent judgment and developing/adapting methodology\\nOffer scientific and technical input within the study team and cross-functionally\\nManage workflow to ensure quality, prioritization, and timeliness across multiple programs\\nHandle external vendors and serve as a key Biostats/data management strategic direction and liaison with external organizations for the studies\\nEnsure up to date knowledge of the industry and academic developments in the Neuroscience, Immuno-Oncology and Orphan disease fields and apply to clinical study design and analysis\\nWe would love to hear from you if you have:\\n7+ years of experience in academia or industry. Pharmaceutical/biotech/CRO industry experience preferred\\nPhD in Biostatistics and or related field\\nStrong knowledge of theoretical and applied statistics and clinical trial data management\\nHands-on ability to drive and lead strategies for clinical trials of drug candidates from first-in-human testing to all later phases of clinical investigation, including pivotal Phase 2/3 studies and NDA/BLA submissions\\nDemonstrated success leading the statistical strategy, analysis, and design of clinical development programs across therapeutic areas and oversight of data management teams\\nKnowledge of applicable regulatory rules and guidelines, e.g., ICH, GCP, HIPAA\\nExperience programming in SAS or R and other relevant statistical software solutions\\nStrong application of innovative study designs and developing milestone criteria (e.g. Go/No Go criteria)\\nDetailed knowledge of adaptive designs, Bayesian methodology, trial simulation, and data modeling is strongly preferred\\nAt Alector, we believe that high-performing teams include people from a wide variety of backgrounds and experiences who can challenge each other\\u2019s assumptions with fresh perspectives and bring creative ideas to the table. We are committed to building an open, diverse, and inclusive environment for all employees. We do not discriminate on the basis of race, religion, color, national origin, sex, gender, sexual orientation, age, marital status, veteran status, disability status, or any other characteristics protected under applicable federal, state, or local laws.\\nAlector is a great place to learn and experiment. If you excel in a dynamic environment where everyone is committed to finding a cure, where you\\u2019ll drive growth, this is the role for you. There is no limit to how far you can go with us.\\n\\nBenefits\\nWhile we\\u2019ve focused on what to look forward to during the first year and beyond, Day One is great, too: committed and driven colleagues, a bold and important company goal, state-of-the-art brand-new brightly-lit offices in the heart of the biotech area, competitive compensation and benefits. But these matter only if you\\u2019re excited to build and own something great, and take on these challenges with us. Come join us.\"\n        ],\n        \"semantic_type\": \"\",\n        \"description\": \"\"\n      }\n    },\n    {\n      \"column\": \"Rating\",\n      \"properties\": {\n        \"dtype\": \"number\",\n        \"std\": 1.4103288795924829,\n        \"min\": -1.0,\n        \"max\": 5.0,\n        \"num_unique_values\": 32,\n        \"samples\": [\n          3.0,\n          2.8,\n          4.9\n        ],\n        \"semantic_type\": \"\",\n        \"description\": \"\"\n      }\n    },\n    {\n      \"column\": \"Company Name\",\n      \"properties\": {\n        \"dtype\": \"string\",\n        \"num_unique_values\": 432,\n        \"samples\": [\n          \"A-Line Staffing Solutions\\n4.1\",\n          \"Powertek\\n3.6\",\n          \"II-VI Incorporated\\n3.3\"\n        ],\n        \"semantic_type\": \"\",\n        \"description\": \"\"\n      }\n    },\n    {\n      \"column\": \"Location\",\n      \"properties\": {\n        \"dtype\": \"category\",\n        \"num_unique_values\": 207,\n        \"samples\": [\n          \"Winters, TX\",\n          \"Memphis, TN\",\n          \"Lehi, UT\"\n        ],\n        \"semantic_type\": \"\",\n        \"description\": \"\"\n      }\n    },\n    {\n      \"column\": \"Headquarters\",\n      \"properties\": {\n        \"dtype\": \"category\",\n        \"num_unique_values\": 229,\n        \"samples\": [\n          \"Simi Valley, CA\",\n          \"San Mateo, CA\",\n          \"Mc Lean, VA\"\n        ],\n        \"semantic_type\": \"\",\n        \"description\": \"\"\n      }\n    },\n    {\n      \"column\": \"Size\",\n      \"properties\": {\n        \"dtype\": \"category\",\n        \"num_unique_values\": 9,\n        \"samples\": [\n          \"-1\",\n          \"5001 to 10000 employees\",\n          \"201 to 500 employees\"\n        ],\n        \"semantic_type\": \"\",\n        \"description\": \"\"\n      }\n    },\n    {\n      \"column\": \"Founded\",\n      \"properties\": {\n        \"dtype\": \"number\",\n        \"std\": 756,\n        \"min\": -1,\n        \"max\": 2019,\n        \"num_unique_values\": 103,\n        \"samples\": [\n          1999,\n          1918,\n          1948\n        ],\n        \"semantic_type\": \"\",\n        \"description\": \"\"\n      }\n    },\n    {\n      \"column\": \"Type of ownership\",\n      \"properties\": {\n        \"dtype\": \"category\",\n        \"num_unique_values\": 13,\n        \"samples\": [\n          \"College / University\",\n          \"Hospital\",\n          \"Nonprofit Organization\"\n        ],\n        \"semantic_type\": \"\",\n        \"description\": \"\"\n      }\n    },\n    {\n      \"column\": \"Industry\",\n      \"properties\": {\n        \"dtype\": \"category\",\n        \"num_unique_values\": 58,\n        \"samples\": [\n          \"Insurance Carriers\",\n          \"Computer Hardware & Software\",\n          \"Oil & Gas Services\"\n        ],\n        \"semantic_type\": \"\",\n        \"description\": \"\"\n      }\n    },\n    {\n      \"column\": \"Sector\",\n      \"properties\": {\n        \"dtype\": \"category\",\n        \"num_unique_values\": 23,\n        \"samples\": [\n          \"Real Estate\",\n          \"Finance\",\n          \"Insurance\"\n        ],\n        \"semantic_type\": \"\",\n        \"description\": \"\"\n      }\n    },\n    {\n      \"column\": \"Revenue\",\n      \"properties\": {\n        \"dtype\": \"category\",\n        \"num_unique_values\": 14,\n        \"samples\": [\n          \"$50 to $100 million (USD)\",\n          \"$5 to $10 million (USD)\",\n          \"Unknown / Non-Applicable\"\n        ],\n        \"semantic_type\": \"\",\n        \"description\": \"\"\n      }\n    },\n    {\n      \"column\": \"Competitors\",\n      \"properties\": {\n        \"dtype\": \"category\",\n        \"num_unique_values\": 108,\n        \"samples\": [\n          \"Raytheon Technologies, Northrop Grumman, Booz Allen Hamilton\",\n          \"Northwestern Mutual\",\n          \"Square, PayPal, H&R Block\"\n        ],\n        \"semantic_type\": \"\",\n        \"description\": \"\"\n      }\n    }\n  ]\n}"
            }
          },
          "metadata": {},
          "execution_count": 3
        }
      ]
    },
    {
      "cell_type": "code",
      "source": [
        "jobs.info()"
      ],
      "metadata": {
        "colab": {
          "base_uri": "https://localhost:8080/"
        },
        "id": "rQwItR73iTyk",
        "outputId": "1fb20b21-24d1-446f-cd7e-456d0e630a94"
      },
      "execution_count": 4,
      "outputs": [
        {
          "output_type": "stream",
          "name": "stdout",
          "text": [
            "<class 'pandas.core.frame.DataFrame'>\n",
            "RangeIndex: 672 entries, 0 to 671\n",
            "Data columns (total 15 columns):\n",
            " #   Column             Non-Null Count  Dtype  \n",
            "---  ------             --------------  -----  \n",
            " 0   index              672 non-null    int64  \n",
            " 1   Job Title          672 non-null    object \n",
            " 2   Salary Estimate    672 non-null    object \n",
            " 3   Job Description    672 non-null    object \n",
            " 4   Rating             672 non-null    float64\n",
            " 5   Company Name       672 non-null    object \n",
            " 6   Location           672 non-null    object \n",
            " 7   Headquarters       672 non-null    object \n",
            " 8   Size               672 non-null    object \n",
            " 9   Founded            672 non-null    int64  \n",
            " 10  Type of ownership  672 non-null    object \n",
            " 11  Industry           672 non-null    object \n",
            " 12  Sector             672 non-null    object \n",
            " 13  Revenue            672 non-null    object \n",
            " 14  Competitors        672 non-null    object \n",
            "dtypes: float64(1), int64(2), object(12)\n",
            "memory usage: 78.9+ KB\n"
          ]
        }
      ]
    },
    {
      "cell_type": "code",
      "source": [
        "jobs.index.dtype"
      ],
      "metadata": {
        "colab": {
          "base_uri": "https://localhost:8080/"
        },
        "id": "Ta8M-2E2idxD",
        "outputId": "687f8e45-f978-439c-bcc8-006a1e1b9f23"
      },
      "execution_count": 5,
      "outputs": [
        {
          "output_type": "execute_result",
          "data": {
            "text/plain": [
              "dtype('int64')"
            ]
          },
          "metadata": {},
          "execution_count": 5
        }
      ]
    },
    {
      "cell_type": "code",
      "source": [
        "#Let us split the data into categorical and numerical values, we include float under the numerical values\n",
        "\n",
        "categorical_feats = jobs.select_dtypes(include=['object'])\n",
        "numerical_feats = jobs.select_dtypes(include =['int64', 'float64'])"
      ],
      "metadata": {
        "id": "EgDn8qNyisd1"
      },
      "execution_count": 6,
      "outputs": []
    },
    {
      "cell_type": "code",
      "source": [
        "(categorical_feats['Location'].value_counts().head(7)).index.to_list()"
      ],
      "metadata": {
        "colab": {
          "base_uri": "https://localhost:8080/"
        },
        "id": "lh-Vzv84WcjG",
        "outputId": "e4fda62c-f95e-443a-9031-53513df2915d"
      },
      "execution_count": 51,
      "outputs": [
        {
          "output_type": "execute_result",
          "data": {
            "text/plain": [
              "['San Francisco, CA',\n",
              " 'New York, NY',\n",
              " 'Washington, DC',\n",
              " 'Boston, MA',\n",
              " 'Chicago, IL',\n",
              " 'Herndon, VA',\n",
              " 'Cambridge, MA']"
            ]
          },
          "metadata": {},
          "execution_count": 51
        }
      ]
    },
    {
      "cell_type": "code",
      "source": [
        "top_five = categorical_feats['Location'].value_counts().drop_duplicates().head(5).index\n",
        "top_five"
      ],
      "metadata": {
        "colab": {
          "base_uri": "https://localhost:8080/"
        },
        "id": "JZftAO_AYGnr",
        "outputId": "5c04e44a-406f-412e-c160-076f6f1bb026"
      },
      "execution_count": 57,
      "outputs": [
        {
          "output_type": "execute_result",
          "data": {
            "text/plain": [
              "Index(['San Francisco, CA', 'New York, NY', 'Washington, DC', 'Boston, MA',\n",
              "       'Chicago, IL'],\n",
              "      dtype='object', name='Location')"
            ]
          },
          "metadata": {},
          "execution_count": 57
        }
      ]
    },
    {
      "cell_type": "code",
      "source": [
        "import matplotlib.pyplot as plt\n",
        "import seaborn as sns\n",
        "import numpy as np\n",
        "\n",
        "plt.bar(x = top_five, height = np.array([50,40,30,20,10]), color = 'red')\n",
        "plt.xticks(rotation = 90)\n",
        "plt.xlabel('Location')\n",
        "plt.ylabel('Number of Job Postings')\n",
        "plt.title('Top Locations With The Most Number of Data Science Positions Available')\n",
        "plt.show()"
      ],
      "metadata": {
        "colab": {
          "base_uri": "https://localhost:8080/",
          "height": 581
        },
        "id": "arVmljyYjVQO",
        "outputId": "15de1922-81f1-438c-8340-c9c62b6d72da"
      },
      "execution_count": 71,
      "outputs": [
        {
          "output_type": "display_data",
          "data": {
            "text/plain": [
              "<Figure size 640x480 with 1 Axes>"
            ],
            "image/png": "[encoded data removed]"
          },
          "metadata": {}
        }
      ]
    },
    {
      "cell_type": "code",
      "source": [
        "#Lets explore the numerical features specifically the Rating Columns\n",
        "\n",
        "max_rating = numerical_feats['Rating'].max()\n",
        "min_rating = numerical_feats['Rating'].min()\n",
        "\n",
        "print(f\"Max Rating: {max_rating}, Min Rating: {min_rating}\")"
      ],
      "metadata": {
        "colab": {
          "base_uri": "https://localhost:8080/"
        },
        "id": "-GAkmK6Kaxh_",
        "outputId": "2fd94f6c-e450-4f05-c897-78d0e235b282"
      },
      "execution_count": 74,
      "outputs": [
        {
          "output_type": "stream",
          "name": "stdout",
          "text": [
            "Max Rating: 5.0, Min Rating: -1.0\n"
          ]
        }
      ]
    },
    {
      "cell_type": "code",
      "source": [
        "#Wtf is a -1.0 rating, lets see if what is the frequency of this value\n",
        "min_rating_freq = numerical_feats['Rating'].value_counts()[min_rating]\n",
        "print(f\"There are {min_rating_freq} of this -1.0 values in this dataset\")"
      ],
      "metadata": {
        "colab": {
          "base_uri": "https://localhost:8080/"
        },
        "id": "mD2QDPH0bcf7",
        "outputId": "c0b077c3-6d9f-413f-d390-66499ee8b963"
      },
      "execution_count": 83,
      "outputs": [
        {
          "output_type": "stream",
          "name": "stdout",
          "text": [
            "There are 50 of this -1.0 values in this dataset\n"
          ]
        }
      ]
    },
    {
      "cell_type": "code",
      "source": [
        "numerical_feats.shape"
      ],
      "metadata": {
        "colab": {
          "base_uri": "https://localhost:8080/"
        },
        "id": "KkzCze-Tc4Qy",
        "outputId": "74fbeaf4-0e80-4bc7-dd9a-55a0b8fcbab9"
      },
      "execution_count": 84,
      "outputs": [
        {
          "output_type": "execute_result",
          "data": {
            "text/plain": [
              "(672, 3)"
            ]
          },
          "metadata": {},
          "execution_count": 84
        }
      ]
    },
    {
      "cell_type": "code",
      "source": [
        "#Visualize the outliers in the ratings\n",
        "sns.scatterplot(x= numerical_feats['Rating'].index, y= numerical_feats['Rating'].values)\n",
        "plt.axhline(y= 0, color = 'red')\n",
        "plt.show()"
      ],
      "metadata": {
        "colab": {
          "base_uri": "https://localhost:8080/",
          "height": 449
        },
        "id": "kT4bZZfriTDz",
        "outputId": "bfcf6be5-322c-427c-9968-48df4df34e21"
      },
      "execution_count": 88,
      "outputs": [
        {
          "output_type": "display_data",
          "data": {
            "text/plain": [
              "<Figure size 640x480 with 1 Axes>"
            ],
            "image/png": "[encoded data removed]"
          },
          "metadata": {}
        }
      ]
    },
    {
      "cell_type": "markdown",
      "source": [
        "# Visualizing the Ratings based on their Job positions"
      ],
      "metadata": {
        "id": "Q2mqmk5rkv8A"
      }
    },
    {
      "cell_type": "code",
      "source": [
        "#Lets explore the data positions available\n",
        "categorical_feats.head()"
      ],
      "metadata": {
        "colab": {
          "base_uri": "https://localhost:8080/",
          "height": 486
        },
        "id": "d5NNWoyGk4ij",
        "outputId": "0ba996b2-9f85-4795-f265-5ac8df74b868"
      },
      "execution_count": 90,
      "outputs": [
        {
          "output_type": "execute_result",
          "data": {
            "text/plain": [
              "           Job Title               Salary Estimate  \\\n",
              "0  Sr Data Scientist  $137K-$171K (Glassdoor est.)   \n",
              "1     Data Scientist  $137K-$171K (Glassdoor est.)   \n",
              "2     Data Scientist  $137K-$171K (Glassdoor est.)   \n",
              "3     Data Scientist  $137K-$171K (Glassdoor est.)   \n",
              "4     Data Scientist  $137K-$171K (Glassdoor est.)   \n",
              "\n",
              "                                     Job Description             Company Name  \\\n",
              "0  Description\\n\\nThe Senior Data Scientist is re...         Healthfirst\\n3.1   \n",
              "1  Secure our Nation, Ignite your Future\\n\\nJoin ...             ManTech\\n4.2   \n",
              "2  Overview\\n\\n\\nAnalysis Group is one of the lar...      Analysis Group\\n3.8   \n",
              "3  JOB DESCRIPTION:\\n\\nDo you have a passion for ...             INFICON\\n3.5   \n",
              "4  Data Scientist\\nAffinity Solutions / Marketing...  Affinity Solutions\\n2.9   \n",
              "\n",
              "        Location            Headquarters                     Size  \\\n",
              "0   New York, NY            New York, NY   1001 to 5000 employees   \n",
              "1  Chantilly, VA             Herndon, VA  5001 to 10000 employees   \n",
              "2     Boston, MA              Boston, MA   1001 to 5000 employees   \n",
              "3     Newton, MA  Bad Ragaz, Switzerland    501 to 1000 employees   \n",
              "4   New York, NY            New York, NY      51 to 200 employees   \n",
              "\n",
              "         Type of ownership                               Industry  \\\n",
              "0   Nonprofit Organization                     Insurance Carriers   \n",
              "1         Company - Public                 Research & Development   \n",
              "2  Private Practice / Firm                             Consulting   \n",
              "3         Company - Public  Electrical & Electronic Manufacturing   \n",
              "4        Company - Private                Advertising & Marketing   \n",
              "\n",
              "              Sector                     Revenue  \\\n",
              "0          Insurance    Unknown / Non-Applicable   \n",
              "1  Business Services      $1 to $2 billion (USD)   \n",
              "2  Business Services  $100 to $500 million (USD)   \n",
              "3      Manufacturing  $100 to $500 million (USD)   \n",
              "4  Business Services    Unknown / Non-Applicable   \n",
              "\n",
              "                                         Competitors  \n",
              "0            EmblemHealth, UnitedHealth Group, Aetna  \n",
              "1                                                 -1  \n",
              "2                                                 -1  \n",
              "3  MKS Instruments, Pfeiffer Vacuum, Agilent Tech...  \n",
              "4               Commerce Signals, Cardlytics, Yodlee  "
            ],
            "text/html": [
              "\n",
              "  <div id=\"df-b94748f7-8db6-44f1-a941-39386952ca53\" class=\"colab-df-container\">\n",
              "    <div>\n",
              "<style scoped>\n",
              "    .dataframe tbody tr th:only-of-type {\n",
              "        vertical-align: middle;\n",
              "    }\n",
              "\n",
              "    .dataframe tbody tr th {\n",
              "        vertical-align: top;\n",
              "    }\n",
              "\n",
              "    .dataframe thead th {\n",
              "        text-align: right;\n",
              "    }\n",
              "</style>\n",
              "<table border=\"1\" class=\"dataframe\">\n",
              "  <thead>\n",
              "    <tr style=\"text-align: right;\">\n",
              "      <th></th>\n",
              "      <th>Job Title</th>\n",
              "      <th>Salary Estimate</th>\n",
              "      <th>Job Description</th>\n",
              "      <th>Company Name</th>\n",
              "      <th>Location</th>\n",
              "      <th>Headquarters</th>\n",
              "      <th>Size</th>\n",
              "      <th>Type of ownership</th>\n",
              "      <th>Industry</th>\n",
              "      <th>Sector</th>\n",
              "      <th>Revenue</th>\n",
              "      <th>Competitors</th>\n",
              "    </tr>\n",
              "  </thead>\n",
              "  <tbody>\n",
              "    <tr>\n",
              "      <th>0</th>\n",
              "      <td>Sr Data Scientist</td>\n",
              "      <td>$137K-$171K (Glassdoor est.)</td>\n",
              "      <td>Description\\n\\nThe Senior Data Scientist is re...</td>\n",
              "      <td>Healthfirst\\n3.1</td>\n",
              "      <td>New York, NY</td>\n",
              "      <td>New York, NY</td>\n",
              "      <td>1001 to 5000 employees</td>\n",
              "      <td>Nonprofit Organization</td>\n",
              "      <td>Insurance Carriers</td>\n",
              "      <td>Insurance</td>\n",
              "      <td>Unknown / Non-Applicable</td>\n",
              "      <td>EmblemHealth, UnitedHealth Group, Aetna</td>\n",
              "    </tr>\n",
              "    <tr>\n",
              "      <th>1</th>\n",
              "      <td>Data Scientist</td>\n",
              "      <td>$137K-$171K (Glassdoor est.)</td>\n",
              "      <td>Secure our Nation, Ignite your Future\\n\\nJoin ...</td>\n",
              "      <td>ManTech\\n4.2</td>\n",
              "      <td>Chantilly, VA</td>\n",
              "      <td>Herndon, VA</td>\n",
              "      <td>5001 to 10000 employees</td>\n",
              "      <td>Company - Public</td>\n",
              "      <td>Research &amp; Development</td>\n",
              "      <td>Business Services</td>\n",
              "      <td>$1 to $2 billion (USD)</td>\n",
              "      <td>-1</td>\n",
              "    </tr>\n",
              "    <tr>\n",
              "      <th>2</th>\n",
              "      <td>Data Scientist</td>\n",
              "      <td>$137K-$171K (Glassdoor est.)</td>\n",
              "      <td>Overview\\n\\n\\nAnalysis Group is one of the lar...</td>\n",
              "      <td>Analysis Group\\n3.8</td>\n",
              "      <td>Boston, MA</td>\n",
              "      <td>Boston, MA</td>\n",
              "      <td>1001 to 5000 employees</td>\n",
              "      <td>Private Practice / Firm</td>\n",
              "      <td>Consulting</td>\n",
              "      <td>Business Services</td>\n",
              "      <td>$100 to $500 million (USD)</td>\n",
              "      <td>-1</td>\n",
              "    </tr>\n",
              "    <tr>\n",
              "      <th>3</th>\n",
              "      <td>Data Scientist</td>\n",
              "      <td>$137K-$171K (Glassdoor est.)</td>\n",
              "      <td>JOB DESCRIPTION:\\n\\nDo you have a passion for ...</td>\n",
              "      <td>INFICON\\n3.5</td>\n",
              "      <td>Newton, MA</td>\n",
              "      <td>Bad Ragaz, Switzerland</td>\n",
              "      <td>501 to 1000 employees</td>\n",
              "      <td>Company - Public</td>\n",
              "      <td>Electrical &amp; Electronic Manufacturing</td>\n",
              "      <td>Manufacturing</td>\n",
              "      <td>$100 to $500 million (USD)</td>\n",
              "      <td>MKS Instruments, Pfeiffer Vacuum, Agilent Tech...</td>\n",
              "    </tr>\n",
              "    <tr>\n",
              "      <th>4</th>\n",
              "      <td>Data Scientist</td>\n",
              "      <td>$137K-$171K (Glassdoor est.)</td>\n",
              "      <td>Data Scientist\\nAffinity Solutions / Marketing...</td>\n",
              "      <td>Affinity Solutions\\n2.9</td>\n",
              "      <td>New York, NY</td>\n",
              "      <td>New York, NY</td>\n",
              "      <td>51 to 200 employees</td>\n",
              "      <td>Company - Private</td>\n",
              "      <td>Advertising &amp; Marketing</td>\n",
              "      <td>Business Services</td>\n",
              "      <td>Unknown / Non-Applicable</td>\n",
              "      <td>Commerce Signals, Cardlytics, Yodlee</td>\n",
              "    </tr>\n",
              "  </tbody>\n",
              "</table>\n",
              "</div>\n",
              "    <div class=\"colab-df-buttons\">\n",
              "\n",
              "  <div class=\"colab-df-container\">\n",
              "    <button class=\"colab-df-convert\" onclick=\"convertToInteractive('df-b94748f7-8db6-44f1-a941-39386952ca53')\"\n",
              "            title=\"Convert this dataframe to an interactive table.\"\n",
              "            style=\"display:none;\">\n",
              "\n",
              "  <svg xmlns=\"http://www.w3.org/2000/svg\" height=\"24px\" viewBox=\"0 -960 960 960\">\n",
              "    <path d=\"M120-120v-720h720v720H120Zm60-500h600v-160H180v160Zm220 220h160v-160H400v160Zm0 220h160v-160H400v160ZM180-400h160v-160H180v160Zm440 0h160v-160H620v160ZM180-180h160v-160H180v160Zm440 0h160v-160H620v160Z\"/>\n",
              "  </svg>\n",
              "    </button>\n",
              "\n",
              "  <style>\n",
              "    .colab-df-container {\n",
              "      display:flex;\n",
              "      gap: 12px;\n",
              "    }\n",
              "\n",
              "    .colab-df-convert {\n",
              "      background-color: #E8F0FE;\n",
              "      border: none;\n",
              "      border-radius: 50%;\n",
              "      cursor: pointer;\n",
              "      display: none;\n",
              "      fill: #1967D2;\n",
              "      height: 32px;\n",
              "      padding: 0 0 0 0;\n",
              "      width: 32px;\n",
              "    }\n",
              "\n",
              "    .colab-df-convert:hover {\n",
              "      background-color: #E2EBFA;\n",
              "      box-shadow: 0px 1px 2px rgba(60, 64, 67, 0.3), 0px 1px 3px 1px rgba(60, 64, 67, 0.15);\n",
              "      fill: #174EA6;\n",
              "    }\n",
              "\n",
              "    .colab-df-buttons div {\n",
              "      margin-bottom: 4px;\n",
              "    }\n",
              "\n",
              "    [theme=dark] .colab-df-convert {\n",
              "      background-color: #3B4455;\n",
              "      fill: #D2E3FC;\n",
              "    }\n",
              "\n",
              "    [theme=dark] .colab-df-convert:hover {\n",
              "      background-color: #434B5C;\n",
              "      box-shadow: 0px 1px 3px 1px rgba(0, 0, 0, 0.15);\n",
              "      filter: drop-shadow(0px 1px 2px rgba(0, 0, 0, 0.3));\n",
              "      fill: #FFFFFF;\n",
              "    }\n",
              "  </style>\n",
              "\n",
              "    <script>\n",
              "      const buttonEl =\n",
              "        document.querySelector('#df-b94748f7-8db6-44f1-a941-39386952ca53 button.colab-df-convert');\n",
              "      buttonEl.style.display =\n",
              "        google.colab.kernel.accessAllowed ? 'block' : 'none';\n",
              "\n",
              "      async function convertToInteractive(key) {\n",
              "        const element = document.querySelector('#df-b94748f7-8db6-44f1-a941-39386952ca53');\n",
              "        const dataTable =\n",
              "          await google.colab.kernel.invokeFunction('convertToInteractive',\n",
              "                                                    [key], {});\n",
              "        if (!dataTable) return;\n",
              "\n",
              "        const docLinkHtml = 'Like what you see? Visit the ' +\n",
              "          '<a target=\"_blank\" href=https://colab.research.google.com/notebooks/data_table.ipynb>data table notebook</a>'\n",
              "          + ' to learn more about interactive tables.';\n",
              "        element.innerHTML = '';\n",
              "        dataTable['output_type'] = 'display_data';\n",
              "        await google.colab.output.renderOutput(dataTable, element);\n",
              "        const docLink = document.createElement('div');\n",
              "        docLink.innerHTML = docLinkHtml;\n",
              "        element.appendChild(docLink);\n",
              "      }\n",
              "    </script>\n",
              "  </div>\n",
              "\n",
              "\n",
              "<div id=\"df-3f54665c-c1ba-4329-8700-7863f207fd7a\">\n",
              "  <button class=\"colab-df-quickchart\" onclick=\"quickchart('df-3f54665c-c1ba-4329-8700-7863f207fd7a')\"\n",
              "            title=\"Suggest charts\"\n",
              "            style=\"display:none;\">\n",
              "\n",
              "<svg xmlns=\"http://www.w3.org/2000/svg\" height=\"24px\"viewBox=\"0 0 24 24\"\n",
              "     width=\"24px\">\n",
              "    <g>\n",
              "        <path d=\"M19 3H5c-1.1 0-2 .9-2 2v14c0 1.1.9 2 2 2h14c1.1 0 2-.9 2-2V5c0-1.1-.9-2-2-2zM9 17H7v-7h2v7zm4 0h-2V7h2v10zm4 0h-2v-4h2v4z\"/>\n",
              "    </g>\n",
              "</svg>\n",
              "  </button>\n",
              "\n",
              "<style>\n",
              "  .colab-df-quickchart {\n",
              "      --bg-color: #E8F0FE;\n",
              "      --fill-color: #1967D2;\n",
              "      --hover-bg-color: #E2EBFA;\n",
              "      --hover-fill-color: #174EA6;\n",
              "      --disabled-fill-color: #AAA;\n",
              "      --disabled-bg-color: #DDD;\n",
              "  }\n",
              "\n",
              "  [theme=dark] .colab-df-quickchart {\n",
              "      --bg-color: #3B4455;\n",
              "      --fill-color: #D2E3FC;\n",
              "      --hover-bg-color: #434B5C;\n",
              "      --hover-fill-color: #FFFFFF;\n",
              "      --disabled-bg-color: #3B4455;\n",
              "      --disabled-fill-color: #666;\n",
              "  }\n",
              "\n",
              "  .colab-df-quickchart {\n",
              "    background-color: var(--bg-color);\n",
              "    border: none;\n",
              "    border-radius: 50%;\n",
              "    cursor: pointer;\n",
              "    display: none;\n",
              "    fill: var(--fill-color);\n",
              "    height: 32px;\n",
              "    padding: 0;\n",
              "    width: 32px;\n",
              "  }\n",
              "\n",
              "  .colab-df-quickchart:hover {\n",
              "    background-color: var(--hover-bg-color);\n",
              "    box-shadow: 0 1px 2px rgba(60, 64, 67, 0.3), 0 1px 3px 1px rgba(60, 64, 67, 0.15);\n",
              "    fill: var(--button-hover-fill-color);\n",
              "  }\n",
              "\n",
              "  .colab-df-quickchart-complete:disabled,\n",
              "  .colab-df-quickchart-complete:disabled:hover {\n",
              "    background-color: var(--disabled-bg-color);\n",
              "    fill: var(--disabled-fill-color);\n",
              "    box-shadow: none;\n",
              "  }\n",
              "\n",
              "  .colab-df-spinner {\n",
              "    border: 2px solid var(--fill-color);\n",
              "    border-color: transparent;\n",
              "    border-bottom-color: var(--fill-color);\n",
              "    animation:\n",
              "      spin 1s steps(1) infinite;\n",
              "  }\n",
              "\n",
              "  @keyframes spin {\n",
              "    0% {\n",
              "      border-color: transparent;\n",
              "      border-bottom-color: var(--fill-color);\n",
              "      border-left-color: var(--fill-color);\n",
              "    }\n",
              "    20% {\n",
              "      border-color: transparent;\n",
              "      border-left-color: var(--fill-color);\n",
              "      border-top-color: var(--fill-color);\n",
              "    }\n",
              "    30% {\n",
              "      border-color: transparent;\n",
              "      border-left-color: var(--fill-color);\n",
              "      border-top-color: var(--fill-color);\n",
              "      border-right-color: var(--fill-color);\n",
              "    }\n",
              "    40% {\n",
              "      border-color: transparent;\n",
              "      border-right-color: var(--fill-color);\n",
              "      border-top-color: var(--fill-color);\n",
              "    }\n",
              "    60% {\n",
              "      border-color: transparent;\n",
              "      border-right-color: var(--fill-color);\n",
              "    }\n",
              "    80% {\n",
              "      border-color: transparent;\n",
              "      border-right-color: var(--fill-color);\n",
              "      border-bottom-color: var(--fill-color);\n",
              "    }\n",
              "    90% {\n",
              "      border-color: transparent;\n",
              "      border-bottom-color: var(--fill-color);\n",
              "    }\n",
              "  }\n",
              "</style>\n",
              "\n",
              "  <script>\n",
              "    async function quickchart(key) {\n",
              "      const quickchartButtonEl =\n",
              "        document.querySelector('#' + key + ' button');\n",
              "      quickchartButtonEl.disabled = true;  // To prevent multiple clicks.\n",
              "      quickchartButtonEl.classList.add('colab-df-spinner');\n",
              "      try {\n",
              "        const charts = await google.colab.kernel.invokeFunction(\n",
              "            'suggestCharts', [key], {});\n",
              "      } catch (error) {\n",
              "        console.error('Error during call to suggestCharts:', error);\n",
              "      }\n",
              "      quickchartButtonEl.classList.remove('colab-df-spinner');\n",
              "      quickchartButtonEl.classList.add('colab-df-quickchart-complete');\n",
              "    }\n",
              "    (() => {\n",
              "      let quickchartButtonEl =\n",
              "        document.querySelector('#df-3f54665c-c1ba-4329-8700-7863f207fd7a button');\n",
              "      quickchartButtonEl.style.display =\n",
              "        google.colab.kernel.accessAllowed ? 'block' : 'none';\n",
              "    })();\n",
              "  </script>\n",
              "</div>\n",
              "\n",
              "    </div>\n",
              "  </div>\n"
            ],
            "application/vnd.google.colaboratory.intrinsic+json": {
              "type": "dataframe",
              "variable_name": "categorical_feats",
              "summary": "{\n  \"name\": \"categorical_feats\",\n  \"rows\": 672,\n  \"fields\": [\n    {\n      \"column\": \"Job Title\",\n      \"properties\": {\n        \"dtype\": \"category\",\n        \"num_unique_values\": 172,\n        \"samples\": [\n          \"Senior Data & Machine Learning Scientist\",\n          \"Weapons and Sensors Engineer/Scientist\",\n          \"Data Science Analyst\"\n        ],\n        \"semantic_type\": \"\",\n        \"description\": \"\"\n      }\n    },\n    {\n      \"column\": \"Salary Estimate\",\n      \"properties\": {\n        \"dtype\": \"category\",\n        \"num_unique_values\": 30,\n        \"samples\": [\n          \"$87K-$141K (Glassdoor est.)\",\n          \"$112K-$116K (Glassdoor est.)\",\n          \"$66K-$112K (Glassdoor est.)\"\n        ],\n        \"semantic_type\": \"\",\n        \"description\": \"\"\n      }\n    },\n    {\n      \"column\": \"Job Description\",\n      \"properties\": {\n        \"dtype\": \"string\",\n        \"num_unique_values\": 489,\n        \"samples\": [\n          \"Data Engineer\\n\\nDescription\\nUST Global is looking for Data Engineer to build end to end business solutions and to work with one of the leading healthcare providers in US. The ideal candidate must possess excellent background on Kafka. The candidate must possess excellent written and verbal communication skills with the ability and collaborate effectively with domain and technical experts in the team\\nRequirements\\nData engineering services required\\nBuild data products and processes alongside the core engineering and technology team\\nCollaborate with senior data scientists to curate, wrangle, and prepare data for use in their advanced analytical models\\nIntegrate data from a variety of sources, assuring that they adhere to data quality and accessibility standards\\nModify and improve data engineering processes to handle ever larger, more complex, and more types of data sources and pipelines\\nUse Hadoop architecture and HDFS commands to design and optimize data queries at scale\\nEvaluate and experiment with novel data engineering tools and advises information technology leads and partners about new capabilities to determine optimal solutions for particular technical problems or designated use cases\\nBig data engineering skills\\n5 years of hands on experience in one or more modern Object Oriented Programming languages Java, Scala, Python including the ability to code in more than one programming language.\\n5 years of hands on experience applying principles, best practices, and trade offs of schema design to different database systems, including relational Oracle, MSSQL, Postgres, MySQL and NoSQL HBase, Cassandra, MongoDB\\n2 years of hands on experience implementing batch and real time data integration frameworks and or applications in private or public cloud environments AWS, Azure, GCP, etc. using various technologies Hadoop, Spark, Impala, etc. , including assessing performance, debugging, and fine tuning those systems\\nDeep understanding of the latest data science and data engineering methods and processes to develop impactful and reusable patterns and abstractions from enterprise level data assets\\n3 years of hands on experience in all phases of data modeling from conceptualization to database optimization\\nDemonstrated ability to perform the engineering necessary to acquire, ingest, cleanse, integrate, and structure massive volumes of data from multiple sources and systems into enterprise analytics platforms\\nProven ability to design and optimize queries to build scalable, modular, efficient data pipelines\\nAbility to work across structured, semi structured, and unstructured data, extracting information and identifying linkages across disparate data sets\\nProven experience delivering production ready data engineering solutions, including requirements definition, architecture selection, prototype development, debugging, unit testing, deployment, support, and maintenance\\nAbility to operate with a variety of data engineering tools and technologies vendor agnostic candidates preferred\\nDomain and industry knowledge\\nStrong collaboration and communication skills to work within and across technology teams and business units\\nDemonstrates the curiosity, interpersonal abilities, and organizational skills necessary to serve as a consulting partner, includes the ability to uncover, understand, and assess the needs of various business stakeholders\\nExperience with problem discovery, solution design, and insight delivery that involves frequent interaction, education, engagement, and evangelism with senior executives\\nIdeal candidate will have extensive experience with the creation and delivery of advanced analytics solutions for healthcare payers or insurance companies, including anomaly detection, provider optimization, studies of sources of fraud, waste, and abuse, and analysis of clinical and economic outcomes of treatment and wellness programs involving medical or pharmacy claims data, electronic medical record data, or other health data\\nExperience with healthcare providers, pharma, or life sciences is a plus\\nExperience with Kafka is required\\nLocation\\nThis position is based in Atlanta, GA Chicago, IL Chandler AZ Richmond VA Norfork VA Mason OH Work from home in any of the above mentioned locations is acceptable but not preferred. UST will provide relocation assistance for full time employment.\\n\\nBTECH or higher\",\n          \"We love programming and the excitement that comes with building something people use. We are the kind of people that love talking to users and can find the balance between solving a problem quickly and thinking about how your code will work in the future. We love to move fast, keep learning and get stuff done.\\n\\nOur data science team is still in its early days and you'll have a big impact on our direction and how we operate. You'll be central to researching, developing and shipping products that help our customers learn and grow from their data. For this role, we're looking for people who have developed split brains--software engineers who have become great at writing machine learning code or data scientists who have become great software developers.\\n\\nTechnologies we use (not comprehensive!):\\nPython\\n\\nNumpy, Scipy, Pandas\\n\\nAurora, Cassandra, Kafka\\n\\nHTML, JavaScript, React\\n\\nSageMaker\\n\\nHow you will make a difference:\\n\\n\\nAnalyze large data sets (we're collecting billions of individual actions every month).\\nBuild products that enable our customers to grow faster and communicate more effectively with their customers.\\nDevelop machine learning models and pipelines for research and production.\\n\\nWho You Are:\\n\\n\\nHave experience implementing machine learning models, data pipelines and testing frameworks for research and production use.\\nHave demonstrated a measurable impact based on the models you've created. It's not always easy getting a model correct, we love talking about places we got stuck and work as a team to think through ideas that could unblock us.\\nHave experience processing cloud-scale data using parallel, elastic, streaming and similar techniques.\\nEnjoy tuning and validating machine learning models and take a rigorous approach.\\nUnderstand how to profile code and optimize performance.\\nAspire to correctness (e.g. in your code, in drawing conclusions from data)\\nHave a bachelor's or advanced degree in computer science, applied math, statistics or other relevant quantitative discipline, or equivalent industry experience.\\n\\nGet to know Klaviyo\\n\\nKlaviyo is the world's leading owned marketing platform known for accelerating revenue for online businesses using the channels they own like email, web, and mobile. Enabling companies to leverage these owned marketing channels, Klaviyo makes it easy to store, access, analyze and use transactional and behavioral data to power highly-targeted customer and prospect communications. And unlike other marketing platforms, Klaviyo doesn't force companies to compromise between advanced functionality or ease of use - so companies of all sizes are able to maximize their sales quickly. That's why over 28,000+ innovative companies like Unilever, Custom Ink and Eventbrite sell more with Klaviyo.\",\n          \"At Alector, our mission is to develop therapies that empower the immune system to cure neurodegeneration. Our team is solely focused on developing cures for some of the most challenging diseases facing our society. We are supported in this mission by experienced and accomplished scientists and board members, leading healthcare investors and some of the most innovative pharma companies.\\n\\nPlease join us in driving the development of new therapies that seek to transform patients' lives. Autonomy and collaboration in tackling challenges is what you are seeking and would like to be part of a hardworking team where everyone has a voice, please join in our mission!\\nAs the Head of Biometrics and Data Management, you will help in developing a strategy and support execution of our development programs. You will have the responsibility and contribute across assigned clinical trials across our therapeutic areas.\\nDuring your first year, your goals will include:\\nDefine how you will contribute to Alector's overall 3-5 year vision to continually improve our clinical development strategy\\nLead and build world-class biostatistics and group.\\nWork in collaboration with internal and external partners in the study design, support endpoint selection and sample size calculations, analysis, interpretation, and publication of clinical trial data\\nExecute protocols, statistical analysis plans, study reports, ensure statistical integrity of presentations and publications of clinical studies by applying your past experiences and provide oversight to data management processes and team\\nLead and work on significant and unique issues that require exercising independent judgment and developing/adapting methodology\\nOffer scientific and technical input within the study team and cross-functionally\\nManage workflow to ensure quality, prioritization, and timeliness across multiple programs\\nHandle external vendors and serve as a key Biostats/data management strategic direction and liaison with external organizations for the studies\\nEnsure up to date knowledge of the industry and academic developments in the Neuroscience, Immuno-Oncology and Orphan disease fields and apply to clinical study design and analysis\\nWe would love to hear from you if you have:\\n7+ years of experience in academia or industry. Pharmaceutical/biotech/CRO industry experience preferred\\nPhD in Biostatistics and or related field\\nStrong knowledge of theoretical and applied statistics and clinical trial data management\\nHands-on ability to drive and lead strategies for clinical trials of drug candidates from first-in-human testing to all later phases of clinical investigation, including pivotal Phase 2/3 studies and NDA/BLA submissions\\nDemonstrated success leading the statistical strategy, analysis, and design of clinical development programs across therapeutic areas and oversight of data management teams\\nKnowledge of applicable regulatory rules and guidelines, e.g., ICH, GCP, HIPAA\\nExperience programming in SAS or R and other relevant statistical software solutions\\nStrong application of innovative study designs and developing milestone criteria (e.g. Go/No Go criteria)\\nDetailed knowledge of adaptive designs, Bayesian methodology, trial simulation, and data modeling is strongly preferred\\nAt Alector, we believe that high-performing teams include people from a wide variety of backgrounds and experiences who can challenge each other\\u2019s assumptions with fresh perspectives and bring creative ideas to the table. We are committed to building an open, diverse, and inclusive environment for all employees. We do not discriminate on the basis of race, religion, color, national origin, sex, gender, sexual orientation, age, marital status, veteran status, disability status, or any other characteristics protected under applicable federal, state, or local laws.\\nAlector is a great place to learn and experiment. If you excel in a dynamic environment where everyone is committed to finding a cure, where you\\u2019ll drive growth, this is the role for you. There is no limit to how far you can go with us.\\n\\nBenefits\\nWhile we\\u2019ve focused on what to look forward to during the first year and beyond, Day One is great, too: committed and driven colleagues, a bold and important company goal, state-of-the-art brand-new brightly-lit offices in the heart of the biotech area, competitive compensation and benefits. But these matter only if you\\u2019re excited to build and own something great, and take on these challenges with us. Come join us.\"\n        ],\n        \"semantic_type\": \"\",\n        \"description\": \"\"\n      }\n    },\n    {\n      \"column\": \"Company Name\",\n      \"properties\": {\n        \"dtype\": \"string\",\n        \"num_unique_values\": 432,\n        \"samples\": [\n          \"A-Line Staffing Solutions\\n4.1\",\n          \"Powertek\\n3.6\",\n          \"II-VI Incorporated\\n3.3\"\n        ],\n        \"semantic_type\": \"\",\n        \"description\": \"\"\n      }\n    },\n    {\n      \"column\": \"Location\",\n      \"properties\": {\n        \"dtype\": \"category\",\n        \"num_unique_values\": 207,\n        \"samples\": [\n          \"Winters, TX\",\n          \"Memphis, TN\",\n          \"Lehi, UT\"\n        ],\n        \"semantic_type\": \"\",\n        \"description\": \"\"\n      }\n    },\n    {\n      \"column\": \"Headquarters\",\n      \"properties\": {\n        \"dtype\": \"category\",\n        \"num_unique_values\": 229,\n        \"samples\": [\n          \"Simi Valley, CA\",\n          \"San Mateo, CA\",\n          \"Mc Lean, VA\"\n        ],\n        \"semantic_type\": \"\",\n        \"description\": \"\"\n      }\n    },\n    {\n      \"column\": \"Size\",\n      \"properties\": {\n        \"dtype\": \"category\",\n        \"num_unique_values\": 9,\n        \"samples\": [\n          \"-1\",\n          \"5001 to 10000 employees\",\n          \"201 to 500 employees\"\n        ],\n        \"semantic_type\": \"\",\n        \"description\": \"\"\n      }\n    },\n    {\n      \"column\": \"Type of ownership\",\n      \"properties\": {\n        \"dtype\": \"category\",\n        \"num_unique_values\": 13,\n        \"samples\": [\n          \"College / University\",\n          \"Hospital\",\n          \"Nonprofit Organization\"\n        ],\n        \"semantic_type\": \"\",\n        \"description\": \"\"\n      }\n    },\n    {\n      \"column\": \"Industry\",\n      \"properties\": {\n        \"dtype\": \"category\",\n        \"num_unique_values\": 58,\n        \"samples\": [\n          \"Insurance Carriers\",\n          \"Computer Hardware & Software\",\n          \"Oil & Gas Services\"\n        ],\n        \"semantic_type\": \"\",\n        \"description\": \"\"\n      }\n    },\n    {\n      \"column\": \"Sector\",\n      \"properties\": {\n        \"dtype\": \"category\",\n        \"num_unique_values\": 23,\n        \"samples\": [\n          \"Real Estate\",\n          \"Finance\",\n          \"Insurance\"\n        ],\n        \"semantic_type\": \"\",\n        \"description\": \"\"\n      }\n    },\n    {\n      \"column\": \"Revenue\",\n      \"properties\": {\n        \"dtype\": \"category\",\n        \"num_unique_values\": 14,\n        \"samples\": [\n          \"$50 to $100 million (USD)\",\n          \"$5 to $10 million (USD)\",\n          \"Unknown / Non-Applicable\"\n        ],\n        \"semantic_type\": \"\",\n        \"description\": \"\"\n      }\n    },\n    {\n      \"column\": \"Competitors\",\n      \"properties\": {\n        \"dtype\": \"category\",\n        \"num_unique_values\": 108,\n        \"samples\": [\n          \"Raytheon Technologies, Northrop Grumman, Booz Allen Hamilton\",\n          \"Northwestern Mutual\",\n          \"Square, PayPal, H&R Block\"\n        ],\n        \"semantic_type\": \"\",\n        \"description\": \"\"\n      }\n    }\n  ]\n}"
            }
          },
          "metadata": {},
          "execution_count": 90
        }
      ]
    },
    {
      "cell_type": "code",
      "source": [
        "categorical_feats['Job Title'].value_counts().head()"
      ],
      "metadata": {
        "colab": {
          "base_uri": "https://localhost:8080/",
          "height": 272
        },
        "id": "IVFmnXdRk4fG",
        "outputId": "a1fae1af-a22f-4337-cce5-e07f2b6d615c"
      },
      "execution_count": 93,
      "outputs": [
        {
          "output_type": "execute_result",
          "data": {
            "text/plain": [
              "Job Title\n",
              "Data Scientist               337\n",
              "Data Engineer                 26\n",
              "Senior Data Scientist         19\n",
              "Machine Learning Engineer     16\n",
              "Data Analyst                  12\n",
              "Name: count, dtype: int64"
            ],
            "text/html": [
              "<div>\n",
              "<style scoped>\n",
              "    .dataframe tbody tr th:only-of-type {\n",
              "        vertical-align: middle;\n",
              "    }\n",
              "\n",
              "    .dataframe tbody tr th {\n",
              "        vertical-align: top;\n",
              "    }\n",
              "\n",
              "    .dataframe thead th {\n",
              "        text-align: right;\n",
              "    }\n",
              "</style>\n",
              "<table border=\"1\" class=\"dataframe\">\n",
              "  <thead>\n",
              "    <tr style=\"text-align: right;\">\n",
              "      <th></th>\n",
              "      <th>count</th>\n",
              "    </tr>\n",
              "    <tr>\n",
              "      <th>Job Title</th>\n",
              "      <th></th>\n",
              "    </tr>\n",
              "  </thead>\n",
              "  <tbody>\n",
              "    <tr>\n",
              "      <th>Data Scientist</th>\n",
              "      <td>337</td>\n",
              "    </tr>\n",
              "    <tr>\n",
              "      <th>Data Engineer</th>\n",
              "      <td>26</td>\n",
              "    </tr>\n",
              "    <tr>\n",
              "      <th>Senior Data Scientist</th>\n",
              "      <td>19</td>\n",
              "    </tr>\n",
              "    <tr>\n",
              "      <th>Machine Learning Engineer</th>\n",
              "      <td>16</td>\n",
              "    </tr>\n",
              "    <tr>\n",
              "      <th>Data Analyst</th>\n",
              "      <td>12</td>\n",
              "    </tr>\n",
              "  </tbody>\n",
              "</table>\n",
              "</div><br><label><b>dtype:</b> int64</label>"
            ]
          },
          "metadata": {},
          "execution_count": 93
        }
      ]
    },
    {
      "cell_type": "code",
      "source": [
        "number_of_job_types = categorical_feats['Job Title'].value_counts().index.to_list()\n",
        "print(f\"There are {len(number_of_job_types)} job types available in this Dataset\")"
      ],
      "metadata": {
        "colab": {
          "base_uri": "https://localhost:8080/"
        },
        "id": "IoLADwyKk4cr",
        "outputId": "ba4951a0-81d8-4708-ccc8-cbaee81b9ba2"
      },
      "execution_count": 104,
      "outputs": [
        {
          "output_type": "stream",
          "name": "stdout",
          "text": [
            "There are 172 job types available in this Dataset\n"
          ]
        }
      ]
    },
    {
      "cell_type": "code",
      "source": [
        "#Next lets visualize first the most in demand listings of job positions\n",
        "top_job_types = categorical_feats['Job Title'].value_counts().head().index.to_list()\n",
        "\n",
        "sns.barplot(x = top_job_types, y = categorical_feats['Job Title'].value_counts().head())\n",
        "plt.title('Top 5 In Demand Job Positons')\n",
        "plt.xlabel('Job Title')\n",
        "plt.ylabel('Number of listings')\n",
        "plt.xticks(rotation = 90)\n",
        "plt.show()"
      ],
      "metadata": {
        "colab": {
          "base_uri": "https://localhost:8080/",
          "height": 647
        },
        "id": "swyn55Eek4ad",
        "outputId": "b061913a-7c7b-4f1c-d551-4030e420db5a"
      },
      "execution_count": 106,
      "outputs": [
        {
          "output_type": "display_data",
          "data": {
            "text/plain": [
              "<Figure size 640x480 with 1 Axes>"
            ],
            "image/png": "[encoded data removed]"
          },
          "metadata": {}
        }
      ]
    },
    {
      "cell_type": "code",
      "source": [
        "#Lets check which job positions has the highest rating count\n",
        "\n",
        "#First select the data science ratings\n",
        "data_science_ratings = jobs[jobs['Job Title'] == 'Data Scientist']['Rating'].value_counts().head(6).drop(min_rating)\n"
      ],
      "metadata": {
        "id": "UiZa5ohTwYct"
      },
      "execution_count": 165,
      "outputs": []
    },
    {
      "cell_type": "code",
      "source": [
        "data_science_ratings_top_5 = data_science_ratings.sort_values(ascending = False)"
      ],
      "metadata": {
        "id": "q2vPSWcC0H0n"
      },
      "execution_count": 168,
      "outputs": []
    },
    {
      "cell_type": "code",
      "source": [
        "data_science_ratings_top_5"
      ],
      "metadata": {
        "colab": {
          "base_uri": "https://localhost:8080/",
          "height": 272
        },
        "id": "ni01MAANzPiP",
        "outputId": "08a38c86-6dd2-4a33-a086-a63b69bcdce5"
      },
      "execution_count": 169,
      "outputs": [
        {
          "output_type": "execute_result",
          "data": {
            "text/plain": [
              "Rating\n",
              "3.5    27\n",
              "3.4    21\n",
              "3.7    19\n",
              "3.3    17\n",
              "5.0    17\n",
              "Name: count, dtype: int64"
            ],
            "text/html": [
              "<div>\n",
              "<style scoped>\n",
              "    .dataframe tbody tr th:only-of-type {\n",
              "        vertical-align: middle;\n",
              "    }\n",
              "\n",
              "    .dataframe tbody tr th {\n",
              "        vertical-align: top;\n",
              "    }\n",
              "\n",
              "    .dataframe thead th {\n",
              "        text-align: right;\n",
              "    }\n",
              "</style>\n",
              "<table border=\"1\" class=\"dataframe\">\n",
              "  <thead>\n",
              "    <tr style=\"text-align: right;\">\n",
              "      <th></th>\n",
              "      <th>count</th>\n",
              "    </tr>\n",
              "    <tr>\n",
              "      <th>Rating</th>\n",
              "      <th></th>\n",
              "    </tr>\n",
              "  </thead>\n",
              "  <tbody>\n",
              "    <tr>\n",
              "      <th>3.5</th>\n",
              "      <td>27</td>\n",
              "    </tr>\n",
              "    <tr>\n",
              "      <th>3.4</th>\n",
              "      <td>21</td>\n",
              "    </tr>\n",
              "    <tr>\n",
              "      <th>3.7</th>\n",
              "      <td>19</td>\n",
              "    </tr>\n",
              "    <tr>\n",
              "      <th>3.3</th>\n",
              "      <td>17</td>\n",
              "    </tr>\n",
              "    <tr>\n",
              "      <th>5.0</th>\n",
              "      <td>17</td>\n",
              "    </tr>\n",
              "  </tbody>\n",
              "</table>\n",
              "</div><br><label><b>dtype:</b> int64</label>"
            ]
          },
          "metadata": {},
          "execution_count": 169
        }
      ]
    },
    {
      "cell_type": "code",
      "source": [
        "#Plot the Data Science Distribution\n",
        "\n",
        "sns.barplot(x = data_science_ratings_top_5.index, y= data_science_ratings_top_5.values, color = 'green')\n",
        "plt.xticks(rotation = 90)\n",
        "plt.xlabel('Ratings')\n",
        "plt.ylabel('Frequency')\n",
        "plt.title('Data Science Rating distribution')\n",
        "plt.show()"
      ],
      "metadata": {
        "colab": {
          "base_uri": "https://localhost:8080/",
          "height": 480
        },
        "id": "uNrER5UzzPf-",
        "outputId": "93794f8e-cb72-45f2-bcf0-394316d8e8ae"
      },
      "execution_count": 171,
      "outputs": [
        {
          "output_type": "display_data",
          "data": {
            "text/plain": [
              "<Figure size 640x480 with 1 Axes>"
            ],
            "image/png": "[encoded data removed]"
          },
          "metadata": {}
        }
      ]
    },
    {
      "cell_type": "code",
      "source": [
        "#not finished"
      ],
      "metadata": {
        "id": "z5kA1Ccj2qgC"
      },
      "execution_count": null,
      "outputs": []
    }
  ]
}