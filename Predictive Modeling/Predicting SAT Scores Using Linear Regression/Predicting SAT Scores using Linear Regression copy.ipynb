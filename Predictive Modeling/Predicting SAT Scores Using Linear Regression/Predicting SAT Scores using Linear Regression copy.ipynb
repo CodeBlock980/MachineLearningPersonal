{
 "cells": [
  {
   "cell_type": "code",
   "execution_count": 1,
   "metadata": {},
   "outputs": [],
   "source": [
    "import pandas as pd\n",
    "import numpy as np\n",
    "from sklearn.compose import ColumnTransformer\n",
    "from sklearn.linear_model import LinearRegression\n",
    "from sklearn.pipeline import Pipeline\n",
    "from sklearn.metrics import root_mean_squared_error\n",
    "from category_encoders import BinaryEncoder\n",
    "from sklearn.preprocessing import StandardScaler"
   ]
  },
  {
   "cell_type": "code",
   "execution_count": 2,
   "metadata": {},
   "outputs": [],
   "source": [
    "satdf = pd.read_csv('sat_scores.csv')"
   ]
  },
  {
   "cell_type": "code",
   "execution_count": 3,
   "metadata": {},
   "outputs": [
    {
     "data": {
      "text/html": [
       "<div>\n",
       "<style scoped>\n",
       "    .dataframe tbody tr th:only-of-type {\n",
       "        vertical-align: middle;\n",
       "    }\n",
       "\n",
       "    .dataframe tbody tr th {\n",
       "        vertical-align: top;\n",
       "    }\n",
       "\n",
       "    .dataframe thead th {\n",
       "        text-align: right;\n",
       "    }\n",
       "</style>\n",
       "<table border=\"1\" class=\"dataframe\">\n",
       "  <thead>\n",
       "    <tr style=\"text-align: right;\">\n",
       "      <th></th>\n",
       "      <th>DBN</th>\n",
       "      <th>School Name</th>\n",
       "      <th>Number of Test Takers</th>\n",
       "      <th>Critical Reading Mean</th>\n",
       "      <th>Mathematics Mean</th>\n",
       "      <th>Writing Mean</th>\n",
       "    </tr>\n",
       "  </thead>\n",
       "  <tbody>\n",
       "    <tr>\n",
       "      <th>0</th>\n",
       "      <td>01M292</td>\n",
       "      <td>Henry Street School for International Studies</td>\n",
       "      <td>31.0</td>\n",
       "      <td>391.0</td>\n",
       "      <td>425.0</td>\n",
       "      <td>385.0</td>\n",
       "    </tr>\n",
       "    <tr>\n",
       "      <th>1</th>\n",
       "      <td>01M448</td>\n",
       "      <td>University Neighborhood High School</td>\n",
       "      <td>60.0</td>\n",
       "      <td>394.0</td>\n",
       "      <td>419.0</td>\n",
       "      <td>387.0</td>\n",
       "    </tr>\n",
       "    <tr>\n",
       "      <th>2</th>\n",
       "      <td>01M450</td>\n",
       "      <td>East Side Community High School</td>\n",
       "      <td>69.0</td>\n",
       "      <td>418.0</td>\n",
       "      <td>431.0</td>\n",
       "      <td>402.0</td>\n",
       "    </tr>\n",
       "    <tr>\n",
       "      <th>3</th>\n",
       "      <td>01M458</td>\n",
       "      <td>SATELLITE ACADEMY FORSYTH ST</td>\n",
       "      <td>26.0</td>\n",
       "      <td>385.0</td>\n",
       "      <td>370.0</td>\n",
       "      <td>378.0</td>\n",
       "    </tr>\n",
       "    <tr>\n",
       "      <th>4</th>\n",
       "      <td>01M509</td>\n",
       "      <td>CMSP HIGH SCHOOL</td>\n",
       "      <td>NaN</td>\n",
       "      <td>NaN</td>\n",
       "      <td>NaN</td>\n",
       "      <td>NaN</td>\n",
       "    </tr>\n",
       "    <tr>\n",
       "      <th>...</th>\n",
       "      <td>...</td>\n",
       "      <td>...</td>\n",
       "      <td>...</td>\n",
       "      <td>...</td>\n",
       "      <td>...</td>\n",
       "      <td>...</td>\n",
       "    </tr>\n",
       "    <tr>\n",
       "      <th>455</th>\n",
       "      <td>75R025</td>\n",
       "      <td>South Richmond High School</td>\n",
       "      <td>10.0</td>\n",
       "      <td>407.0</td>\n",
       "      <td>421.0</td>\n",
       "      <td>400.0</td>\n",
       "    </tr>\n",
       "    <tr>\n",
       "      <th>456</th>\n",
       "      <td>75X012</td>\n",
       "      <td>PS12X LEWIS AND CLARK SCHOOL</td>\n",
       "      <td>NaN</td>\n",
       "      <td>NaN</td>\n",
       "      <td>NaN</td>\n",
       "      <td>NaN</td>\n",
       "    </tr>\n",
       "    <tr>\n",
       "      <th>457</th>\n",
       "      <td>75X754</td>\n",
       "      <td>P754 X - Jeffrey M. Rapport School for Career ...</td>\n",
       "      <td>NaN</td>\n",
       "      <td>NaN</td>\n",
       "      <td>NaN</td>\n",
       "      <td>NaN</td>\n",
       "    </tr>\n",
       "    <tr>\n",
       "      <th>458</th>\n",
       "      <td>76K460</td>\n",
       "      <td>John Jay High School</td>\n",
       "      <td>9.0</td>\n",
       "      <td>390.0</td>\n",
       "      <td>381.0</td>\n",
       "      <td>398.0</td>\n",
       "    </tr>\n",
       "    <tr>\n",
       "      <th>459</th>\n",
       "      <td>79X490</td>\n",
       "      <td>PHOENIX SCHOOL</td>\n",
       "      <td>7.0</td>\n",
       "      <td>404.0</td>\n",
       "      <td>423.0</td>\n",
       "      <td>416.0</td>\n",
       "    </tr>\n",
       "  </tbody>\n",
       "</table>\n",
       "<p>460 rows × 6 columns</p>\n",
       "</div>"
      ],
      "text/plain": [
       "        DBN                                        School Name  \\\n",
       "0    01M292     Henry Street School for International Studies    \n",
       "1    01M448               University Neighborhood High School    \n",
       "2    01M450                   East Side Community High School    \n",
       "3    01M458                      SATELLITE ACADEMY FORSYTH ST    \n",
       "4    01M509                                  CMSP HIGH SCHOOL    \n",
       "..      ...                                                ...   \n",
       "455  75R025                        South Richmond High School    \n",
       "456  75X012                      PS12X LEWIS AND CLARK SCHOOL    \n",
       "457  75X754  P754 X - Jeffrey M. Rapport School for Career ...   \n",
       "458  76K460                              John Jay High School    \n",
       "459  79X490                                    PHOENIX SCHOOL    \n",
       "\n",
       "     Number of Test Takers  Critical Reading Mean  Mathematics Mean  \\\n",
       "0                     31.0                  391.0             425.0   \n",
       "1                     60.0                  394.0             419.0   \n",
       "2                     69.0                  418.0             431.0   \n",
       "3                     26.0                  385.0             370.0   \n",
       "4                      NaN                    NaN               NaN   \n",
       "..                     ...                    ...               ...   \n",
       "455                   10.0                  407.0             421.0   \n",
       "456                    NaN                    NaN               NaN   \n",
       "457                    NaN                    NaN               NaN   \n",
       "458                    9.0                  390.0             381.0   \n",
       "459                    7.0                  404.0             423.0   \n",
       "\n",
       "     Writing Mean  \n",
       "0           385.0  \n",
       "1           387.0  \n",
       "2           402.0  \n",
       "3           378.0  \n",
       "4             NaN  \n",
       "..            ...  \n",
       "455         400.0  \n",
       "456           NaN  \n",
       "457           NaN  \n",
       "458         398.0  \n",
       "459         416.0  \n",
       "\n",
       "[460 rows x 6 columns]"
      ]
     },
     "execution_count": 3,
     "metadata": {},
     "output_type": "execute_result"
    }
   ],
   "source": [
    "satdf"
   ]
  },
  {
   "cell_type": "code",
   "execution_count": 4,
   "metadata": {},
   "outputs": [
    {
     "data": {
      "text/plain": [
       "DBN                       0\n",
       "School Name               0\n",
       "Number of Test Takers    74\n",
       "Critical Reading Mean    74\n",
       "Mathematics Mean         74\n",
       "Writing Mean             74\n",
       "dtype: int64"
      ]
     },
     "execution_count": 4,
     "metadata": {},
     "output_type": "execute_result"
    }
   ],
   "source": [
    "satdf.isna().sum()"
   ]
  },
  {
   "cell_type": "code",
   "execution_count": 5,
   "metadata": {},
   "outputs": [
    {
     "name": "stdout",
     "output_type": "stream",
     "text": [
      "False\n",
      "True\n",
      "False\n",
      "False\n",
      "False\n",
      "False\n"
     ]
    }
   ],
   "source": [
    "for cols in satdf.columns:\n",
    "    print(satdf[cols].is_unique)"
   ]
  },
  {
   "cell_type": "code",
   "execution_count": 6,
   "metadata": {},
   "outputs": [
    {
     "data": {
      "text/plain": [
       "DBN                       object\n",
       "School Name               object\n",
       "Number of Test Takers    float64\n",
       "Critical Reading Mean    float64\n",
       "Mathematics Mean         float64\n",
       "Writing Mean             float64\n",
       "dtype: object"
      ]
     },
     "execution_count": 6,
     "metadata": {},
     "output_type": "execute_result"
    }
   ],
   "source": [
    "satdf.dtypes"
   ]
  },
  {
   "cell_type": "code",
   "execution_count": 7,
   "metadata": {},
   "outputs": [],
   "source": [
    "#Remove DBN column\n",
    "satdf = satdf.drop('DBN', axis= 1)"
   ]
  },
  {
   "cell_type": "code",
   "execution_count": 8,
   "metadata": {},
   "outputs": [
    {
     "data": {
      "text/html": [
       "<div>\n",
       "<style scoped>\n",
       "    .dataframe tbody tr th:only-of-type {\n",
       "        vertical-align: middle;\n",
       "    }\n",
       "\n",
       "    .dataframe tbody tr th {\n",
       "        vertical-align: top;\n",
       "    }\n",
       "\n",
       "    .dataframe thead th {\n",
       "        text-align: right;\n",
       "    }\n",
       "</style>\n",
       "<table border=\"1\" class=\"dataframe\">\n",
       "  <thead>\n",
       "    <tr style=\"text-align: right;\">\n",
       "      <th></th>\n",
       "      <th>School Name</th>\n",
       "      <th>Number of Test Takers</th>\n",
       "      <th>Critical Reading Mean</th>\n",
       "      <th>Mathematics Mean</th>\n",
       "      <th>Writing Mean</th>\n",
       "    </tr>\n",
       "  </thead>\n",
       "  <tbody>\n",
       "    <tr>\n",
       "      <th>0</th>\n",
       "      <td>Henry Street School for International Studies</td>\n",
       "      <td>31.0</td>\n",
       "      <td>391.0</td>\n",
       "      <td>425.0</td>\n",
       "      <td>385.0</td>\n",
       "    </tr>\n",
       "    <tr>\n",
       "      <th>1</th>\n",
       "      <td>University Neighborhood High School</td>\n",
       "      <td>60.0</td>\n",
       "      <td>394.0</td>\n",
       "      <td>419.0</td>\n",
       "      <td>387.0</td>\n",
       "    </tr>\n",
       "    <tr>\n",
       "      <th>2</th>\n",
       "      <td>East Side Community High School</td>\n",
       "      <td>69.0</td>\n",
       "      <td>418.0</td>\n",
       "      <td>431.0</td>\n",
       "      <td>402.0</td>\n",
       "    </tr>\n",
       "    <tr>\n",
       "      <th>3</th>\n",
       "      <td>SATELLITE ACADEMY FORSYTH ST</td>\n",
       "      <td>26.0</td>\n",
       "      <td>385.0</td>\n",
       "      <td>370.0</td>\n",
       "      <td>378.0</td>\n",
       "    </tr>\n",
       "    <tr>\n",
       "      <th>4</th>\n",
       "      <td>CMSP HIGH SCHOOL</td>\n",
       "      <td>NaN</td>\n",
       "      <td>NaN</td>\n",
       "      <td>NaN</td>\n",
       "      <td>NaN</td>\n",
       "    </tr>\n",
       "    <tr>\n",
       "      <th>...</th>\n",
       "      <td>...</td>\n",
       "      <td>...</td>\n",
       "      <td>...</td>\n",
       "      <td>...</td>\n",
       "      <td>...</td>\n",
       "    </tr>\n",
       "    <tr>\n",
       "      <th>455</th>\n",
       "      <td>South Richmond High School</td>\n",
       "      <td>10.0</td>\n",
       "      <td>407.0</td>\n",
       "      <td>421.0</td>\n",
       "      <td>400.0</td>\n",
       "    </tr>\n",
       "    <tr>\n",
       "      <th>456</th>\n",
       "      <td>PS12X LEWIS AND CLARK SCHOOL</td>\n",
       "      <td>NaN</td>\n",
       "      <td>NaN</td>\n",
       "      <td>NaN</td>\n",
       "      <td>NaN</td>\n",
       "    </tr>\n",
       "    <tr>\n",
       "      <th>457</th>\n",
       "      <td>P754 X - Jeffrey M. Rapport School for Career ...</td>\n",
       "      <td>NaN</td>\n",
       "      <td>NaN</td>\n",
       "      <td>NaN</td>\n",
       "      <td>NaN</td>\n",
       "    </tr>\n",
       "    <tr>\n",
       "      <th>458</th>\n",
       "      <td>John Jay High School</td>\n",
       "      <td>9.0</td>\n",
       "      <td>390.0</td>\n",
       "      <td>381.0</td>\n",
       "      <td>398.0</td>\n",
       "    </tr>\n",
       "    <tr>\n",
       "      <th>459</th>\n",
       "      <td>PHOENIX SCHOOL</td>\n",
       "      <td>7.0</td>\n",
       "      <td>404.0</td>\n",
       "      <td>423.0</td>\n",
       "      <td>416.0</td>\n",
       "    </tr>\n",
       "  </tbody>\n",
       "</table>\n",
       "<p>460 rows × 5 columns</p>\n",
       "</div>"
      ],
      "text/plain": [
       "                                           School Name  Number of Test Takers  \\\n",
       "0       Henry Street School for International Studies                    31.0   \n",
       "1                 University Neighborhood High School                    60.0   \n",
       "2                     East Side Community High School                    69.0   \n",
       "3                        SATELLITE ACADEMY FORSYTH ST                    26.0   \n",
       "4                                    CMSP HIGH SCHOOL                     NaN   \n",
       "..                                                 ...                    ...   \n",
       "455                        South Richmond High School                    10.0   \n",
       "456                      PS12X LEWIS AND CLARK SCHOOL                     NaN   \n",
       "457  P754 X - Jeffrey M. Rapport School for Career ...                    NaN   \n",
       "458                              John Jay High School                     9.0   \n",
       "459                                    PHOENIX SCHOOL                     7.0   \n",
       "\n",
       "     Critical Reading Mean  Mathematics Mean  Writing Mean  \n",
       "0                    391.0             425.0         385.0  \n",
       "1                    394.0             419.0         387.0  \n",
       "2                    418.0             431.0         402.0  \n",
       "3                    385.0             370.0         378.0  \n",
       "4                      NaN               NaN           NaN  \n",
       "..                     ...               ...           ...  \n",
       "455                  407.0             421.0         400.0  \n",
       "456                    NaN               NaN           NaN  \n",
       "457                    NaN               NaN           NaN  \n",
       "458                  390.0             381.0         398.0  \n",
       "459                  404.0             423.0         416.0  \n",
       "\n",
       "[460 rows x 5 columns]"
      ]
     },
     "execution_count": 8,
     "metadata": {},
     "output_type": "execute_result"
    }
   ],
   "source": [
    "satdf"
   ]
  },
  {
   "cell_type": "code",
   "execution_count": 9,
   "metadata": {},
   "outputs": [
    {
     "data": {
      "text/plain": [
       "['Number of Test Takers',\n",
       " 'Critical Reading Mean',\n",
       " 'Mathematics Mean',\n",
       " 'Writing Mean']"
      ]
     },
     "execution_count": 9,
     "metadata": {},
     "output_type": "execute_result"
    }
   ],
   "source": [
    "#Take the numerical column for imputation by mean\n",
    "numerical = [i for i in satdf.columns if satdf[i].dtype == 'float']\n",
    "numerical"
   ]
  },
  {
   "cell_type": "code",
   "execution_count": 10,
   "metadata": {},
   "outputs": [],
   "source": [
    "#Fill missing values in numerical columns by imputing its mean\n",
    "from sklearn.impute import SimpleImputer\n",
    "\n",
    "imputer = SimpleImputer(missing_values= np.nan, strategy= 'mean')\n",
    "satdf[numerical] = imputer.fit_transform(satdf[numerical])"
   ]
  },
  {
   "cell_type": "code",
   "execution_count": 11,
   "metadata": {},
   "outputs": [
    {
     "data": {
      "text/plain": [
       "Number of Test Takers    0\n",
       "Critical Reading Mean    0\n",
       "Mathematics Mean         0\n",
       "Writing Mean             0\n",
       "dtype: int64"
      ]
     },
     "execution_count": 11,
     "metadata": {},
     "output_type": "execute_result"
    }
   ],
   "source": [
    "#Check again for missing values\n",
    "satdf[numerical].isna().sum()"
   ]
  },
  {
   "cell_type": "markdown",
   "metadata": {},
   "source": [
    "***Since we have three target variables, lets find them out 1 by 1 starting with Column : Critical Reading Mean***"
   ]
  },
  {
   "cell_type": "code",
   "execution_count": 12,
   "metadata": {},
   "outputs": [],
   "source": [
    "#Split data into features and targets (Critical Reading Mean)\n",
    "X1 = satdf.iloc[:, 0:2]\n",
    "y1 = satdf.iloc[:, 2]"
   ]
  },
  {
   "cell_type": "code",
   "execution_count": 13,
   "metadata": {},
   "outputs": [
    {
     "name": "stdout",
     "output_type": "stream",
     "text": [
      "                                           School Name  Number of Test Takers\n",
      "0       Henry Street School for International Studies               31.000000\n",
      "1                 University Neighborhood High School               60.000000\n",
      "2                     East Side Community High School               69.000000\n",
      "3                        SATELLITE ACADEMY FORSYTH ST               26.000000\n",
      "4                                    CMSP HIGH SCHOOL              103.658031\n",
      "..                                                 ...                    ...\n",
      "455                        South Richmond High School               10.000000\n",
      "456                      PS12X LEWIS AND CLARK SCHOOL              103.658031\n",
      "457  P754 X - Jeffrey M. Rapport School for Career ...             103.658031\n",
      "458                              John Jay High School                9.000000\n",
      "459                                    PHOENIX SCHOOL                7.000000\n",
      "\n",
      "[460 rows x 2 columns]\n"
     ]
    }
   ],
   "source": [
    "#Check the X1 \n",
    "print(X1)"
   ]
  },
  {
   "cell_type": "code",
   "execution_count": 14,
   "metadata": {},
   "outputs": [
    {
     "name": "stdout",
     "output_type": "stream",
     "text": [
      "0      391.000000\n",
      "1      394.000000\n",
      "2      418.000000\n",
      "3      385.000000\n",
      "4      404.248705\n",
      "          ...    \n",
      "455    407.000000\n",
      "456    404.248705\n",
      "457    404.248705\n",
      "458    390.000000\n",
      "459    404.000000\n",
      "Name: Critical Reading Mean, Length: 460, dtype: float64\n"
     ]
    }
   ],
   "source": [
    "#Check y1\n",
    "print(y1)"
   ]
  },
  {
   "cell_type": "code",
   "execution_count": 23,
   "metadata": {},
   "outputs": [],
   "source": [
    "#Split the dataset into training and test sets\n",
    "from sklearn.model_selection import train_test_split\n",
    "\n",
    "X1_train, X1_test, y1_train, y1_test = train_test_split(X1, y1, test_size= 0.2, random_state= 1)\n",
    "\n"
   ]
  },
  {
   "cell_type": "code",
   "execution_count": 16,
   "metadata": {},
   "outputs": [
    {
     "data": {
      "text/html": [
       "<div>\n",
       "<style scoped>\n",
       "    .dataframe tbody tr th:only-of-type {\n",
       "        vertical-align: middle;\n",
       "    }\n",
       "\n",
       "    .dataframe tbody tr th {\n",
       "        vertical-align: top;\n",
       "    }\n",
       "\n",
       "    .dataframe thead th {\n",
       "        text-align: right;\n",
       "    }\n",
       "</style>\n",
       "<table border=\"1\" class=\"dataframe\">\n",
       "  <thead>\n",
       "    <tr style=\"text-align: right;\">\n",
       "      <th></th>\n",
       "      <th>School Name</th>\n",
       "      <th>Number of Test Takers</th>\n",
       "    </tr>\n",
       "  </thead>\n",
       "  <tbody>\n",
       "    <tr>\n",
       "      <th>271</th>\n",
       "      <td>METROPOLITAN CORPORATE ACADEMY</td>\n",
       "      <td>17.000000</td>\n",
       "    </tr>\n",
       "    <tr>\n",
       "      <th>268</th>\n",
       "      <td>COBBE HILL SCHOOL AMERICAN STD</td>\n",
       "      <td>44.000000</td>\n",
       "    </tr>\n",
       "    <tr>\n",
       "      <th>328</th>\n",
       "      <td>Academy of Innovative Technology High School</td>\n",
       "      <td>103.658031</td>\n",
       "    </tr>\n",
       "    <tr>\n",
       "      <th>270</th>\n",
       "      <td>WEST BROOKLYN COMMUNITY HIGH SCHOOL</td>\n",
       "      <td>11.000000</td>\n",
       "    </tr>\n",
       "    <tr>\n",
       "      <th>456</th>\n",
       "      <td>PS12X LEWIS AND CLARK SCHOOL</td>\n",
       "      <td>103.658031</td>\n",
       "    </tr>\n",
       "    <tr>\n",
       "      <th>...</th>\n",
       "      <td>...</td>\n",
       "      <td>...</td>\n",
       "    </tr>\n",
       "    <tr>\n",
       "      <th>255</th>\n",
       "      <td>WILLIAMSBURG PREP</td>\n",
       "      <td>58.000000</td>\n",
       "    </tr>\n",
       "    <tr>\n",
       "      <th>72</th>\n",
       "      <td>Urban Assembly School For Media Studies</td>\n",
       "      <td>53.000000</td>\n",
       "    </tr>\n",
       "    <tr>\n",
       "      <th>396</th>\n",
       "      <td>ACADEMY OF MEDICAL TECHNOLOGY</td>\n",
       "      <td>103.658031</td>\n",
       "    </tr>\n",
       "    <tr>\n",
       "      <th>235</th>\n",
       "      <td>BROOKLYN TECHNICAL HIGH SCHOOL</td>\n",
       "      <td>1047.000000</td>\n",
       "    </tr>\n",
       "    <tr>\n",
       "      <th>37</th>\n",
       "      <td>Seward Park High School</td>\n",
       "      <td>103.658031</td>\n",
       "    </tr>\n",
       "  </tbody>\n",
       "</table>\n",
       "<p>368 rows × 2 columns</p>\n",
       "</div>"
      ],
      "text/plain": [
       "                                       School Name  Number of Test Takers\n",
       "271                METROPOLITAN CORPORATE ACADEMY               17.000000\n",
       "268                COBBE HILL SCHOOL AMERICAN STD               44.000000\n",
       "328  Academy of Innovative Technology High School              103.658031\n",
       "270           WEST BROOKLYN COMMUNITY HIGH SCHOOL               11.000000\n",
       "456                  PS12X LEWIS AND CLARK SCHOOL              103.658031\n",
       "..                                             ...                    ...\n",
       "255                             WILLIAMSBURG PREP               58.000000\n",
       "72        Urban Assembly School For Media Studies               53.000000\n",
       "396                 ACADEMY OF MEDICAL TECHNOLOGY              103.658031\n",
       "235                BROOKLYN TECHNICAL HIGH SCHOOL             1047.000000\n",
       "37                        Seward Park High School              103.658031\n",
       "\n",
       "[368 rows x 2 columns]"
      ]
     },
     "execution_count": 16,
     "metadata": {},
     "output_type": "execute_result"
    }
   ],
   "source": [
    "X1_train"
   ]
  },
  {
   "cell_type": "markdown",
   "metadata": {},
   "source": [
    "***The column school name is still not encoded so we will encode it using BinaryEncoder***"
   ]
  },
  {
   "cell_type": "code",
   "execution_count": 17,
   "metadata": {},
   "outputs": [],
   "source": [
    "#Encoding The Categorical Column (We only have one column in categorical which is the School name) (Unfinished)\n",
    "\n",
    "ct = ColumnTransformer(transformers=[\n",
    "    ('bin_enc', BinaryEncoder(), [0]),\n",
    "    ('scaler', StandardScaler(), [1])\n",
    "    ], remainder= 'passthrough')\n",
    "\n",
    "#Check if its right\n",
    "X1_train_trans = ct.fit_transform(X1_train)\n",
    "X1_test_trans = ct.transform(X1_test)\n",
    "\n",
    "pipe = Pipeline(steps= [\n",
    "    ('ct', ct),\n",
    "    ('regressor', LinearRegression())\n",
    "])\n",
    "\n",
    "#Fit the training set to the model\n",
    "pipe.fit(X1_train, y1_train)\n",
    "\n",
    "#Predicting the results\n",
    "y_pred = pipe.predict(X1_test)\n"
   ]
  },
  {
   "cell_type": "code",
   "execution_count": 18,
   "metadata": {},
   "outputs": [
    {
     "data": {
      "text/html": [
       "<div>\n",
       "<style scoped>\n",
       "    .dataframe tbody tr th:only-of-type {\n",
       "        vertical-align: middle;\n",
       "    }\n",
       "\n",
       "    .dataframe tbody tr th {\n",
       "        vertical-align: top;\n",
       "    }\n",
       "\n",
       "    .dataframe thead th {\n",
       "        text-align: right;\n",
       "    }\n",
       "</style>\n",
       "<table border=\"1\" class=\"dataframe\">\n",
       "  <thead>\n",
       "    <tr style=\"text-align: right;\">\n",
       "      <th></th>\n",
       "      <th>0</th>\n",
       "      <th>1</th>\n",
       "      <th>2</th>\n",
       "      <th>3</th>\n",
       "      <th>4</th>\n",
       "      <th>5</th>\n",
       "      <th>6</th>\n",
       "      <th>7</th>\n",
       "      <th>8</th>\n",
       "      <th>9</th>\n",
       "    </tr>\n",
       "  </thead>\n",
       "  <tbody>\n",
       "    <tr>\n",
       "      <th>0</th>\n",
       "      <td>0.0</td>\n",
       "      <td>0.0</td>\n",
       "      <td>0.0</td>\n",
       "      <td>0.0</td>\n",
       "      <td>0.0</td>\n",
       "      <td>0.0</td>\n",
       "      <td>0.0</td>\n",
       "      <td>0.0</td>\n",
       "      <td>1.0</td>\n",
       "      <td>-0.645705</td>\n",
       "    </tr>\n",
       "    <tr>\n",
       "      <th>1</th>\n",
       "      <td>0.0</td>\n",
       "      <td>0.0</td>\n",
       "      <td>0.0</td>\n",
       "      <td>0.0</td>\n",
       "      <td>0.0</td>\n",
       "      <td>0.0</td>\n",
       "      <td>0.0</td>\n",
       "      <td>1.0</td>\n",
       "      <td>0.0</td>\n",
       "      <td>-0.442097</td>\n",
       "    </tr>\n",
       "    <tr>\n",
       "      <th>2</th>\n",
       "      <td>0.0</td>\n",
       "      <td>0.0</td>\n",
       "      <td>0.0</td>\n",
       "      <td>0.0</td>\n",
       "      <td>0.0</td>\n",
       "      <td>0.0</td>\n",
       "      <td>0.0</td>\n",
       "      <td>1.0</td>\n",
       "      <td>1.0</td>\n",
       "      <td>0.007787</td>\n",
       "    </tr>\n",
       "    <tr>\n",
       "      <th>3</th>\n",
       "      <td>0.0</td>\n",
       "      <td>0.0</td>\n",
       "      <td>0.0</td>\n",
       "      <td>0.0</td>\n",
       "      <td>0.0</td>\n",
       "      <td>0.0</td>\n",
       "      <td>1.0</td>\n",
       "      <td>0.0</td>\n",
       "      <td>0.0</td>\n",
       "      <td>-0.690951</td>\n",
       "    </tr>\n",
       "    <tr>\n",
       "      <th>4</th>\n",
       "      <td>0.0</td>\n",
       "      <td>0.0</td>\n",
       "      <td>0.0</td>\n",
       "      <td>0.0</td>\n",
       "      <td>0.0</td>\n",
       "      <td>0.0</td>\n",
       "      <td>1.0</td>\n",
       "      <td>0.0</td>\n",
       "      <td>1.0</td>\n",
       "      <td>0.007787</td>\n",
       "    </tr>\n",
       "    <tr>\n",
       "      <th>...</th>\n",
       "      <td>...</td>\n",
       "      <td>...</td>\n",
       "      <td>...</td>\n",
       "      <td>...</td>\n",
       "      <td>...</td>\n",
       "      <td>...</td>\n",
       "      <td>...</td>\n",
       "      <td>...</td>\n",
       "      <td>...</td>\n",
       "      <td>...</td>\n",
       "    </tr>\n",
       "    <tr>\n",
       "      <th>363</th>\n",
       "      <td>1.0</td>\n",
       "      <td>0.0</td>\n",
       "      <td>1.0</td>\n",
       "      <td>1.0</td>\n",
       "      <td>0.0</td>\n",
       "      <td>1.0</td>\n",
       "      <td>1.0</td>\n",
       "      <td>0.0</td>\n",
       "      <td>0.0</td>\n",
       "      <td>-0.336522</td>\n",
       "    </tr>\n",
       "    <tr>\n",
       "      <th>364</th>\n",
       "      <td>1.0</td>\n",
       "      <td>0.0</td>\n",
       "      <td>1.0</td>\n",
       "      <td>1.0</td>\n",
       "      <td>0.0</td>\n",
       "      <td>1.0</td>\n",
       "      <td>1.0</td>\n",
       "      <td>0.0</td>\n",
       "      <td>1.0</td>\n",
       "      <td>-0.374227</td>\n",
       "    </tr>\n",
       "    <tr>\n",
       "      <th>365</th>\n",
       "      <td>1.0</td>\n",
       "      <td>0.0</td>\n",
       "      <td>1.0</td>\n",
       "      <td>1.0</td>\n",
       "      <td>0.0</td>\n",
       "      <td>1.0</td>\n",
       "      <td>1.0</td>\n",
       "      <td>1.0</td>\n",
       "      <td>0.0</td>\n",
       "      <td>0.007787</td>\n",
       "    </tr>\n",
       "    <tr>\n",
       "      <th>366</th>\n",
       "      <td>1.0</td>\n",
       "      <td>0.0</td>\n",
       "      <td>1.0</td>\n",
       "      <td>1.0</td>\n",
       "      <td>0.0</td>\n",
       "      <td>1.0</td>\n",
       "      <td>1.0</td>\n",
       "      <td>1.0</td>\n",
       "      <td>1.0</td>\n",
       "      <td>7.121573</td>\n",
       "    </tr>\n",
       "    <tr>\n",
       "      <th>367</th>\n",
       "      <td>1.0</td>\n",
       "      <td>0.0</td>\n",
       "      <td>1.0</td>\n",
       "      <td>1.0</td>\n",
       "      <td>1.0</td>\n",
       "      <td>0.0</td>\n",
       "      <td>0.0</td>\n",
       "      <td>0.0</td>\n",
       "      <td>0.0</td>\n",
       "      <td>0.007787</td>\n",
       "    </tr>\n",
       "  </tbody>\n",
       "</table>\n",
       "<p>368 rows × 10 columns</p>\n",
       "</div>"
      ],
      "text/plain": [
       "       0    1    2    3    4    5    6    7    8         9\n",
       "0    0.0  0.0  0.0  0.0  0.0  0.0  0.0  0.0  1.0 -0.645705\n",
       "1    0.0  0.0  0.0  0.0  0.0  0.0  0.0  1.0  0.0 -0.442097\n",
       "2    0.0  0.0  0.0  0.0  0.0  0.0  0.0  1.0  1.0  0.007787\n",
       "3    0.0  0.0  0.0  0.0  0.0  0.0  1.0  0.0  0.0 -0.690951\n",
       "4    0.0  0.0  0.0  0.0  0.0  0.0  1.0  0.0  1.0  0.007787\n",
       "..   ...  ...  ...  ...  ...  ...  ...  ...  ...       ...\n",
       "363  1.0  0.0  1.0  1.0  0.0  1.0  1.0  0.0  0.0 -0.336522\n",
       "364  1.0  0.0  1.0  1.0  0.0  1.0  1.0  0.0  1.0 -0.374227\n",
       "365  1.0  0.0  1.0  1.0  0.0  1.0  1.0  1.0  0.0  0.007787\n",
       "366  1.0  0.0  1.0  1.0  0.0  1.0  1.0  1.0  1.0  7.121573\n",
       "367  1.0  0.0  1.0  1.0  1.0  0.0  0.0  0.0  0.0  0.007787\n",
       "\n",
       "[368 rows x 10 columns]"
      ]
     },
     "execution_count": 18,
     "metadata": {},
     "output_type": "execute_result"
    }
   ],
   "source": [
    "pd.DataFrame(X1_train_trans)"
   ]
  },
  {
   "cell_type": "markdown",
   "metadata": {},
   "source": [
    "***In the dataframe above, we could see that there is a value that goes up to 7 (which could be a potential outlier)***"
   ]
  },
  {
   "cell_type": "code",
   "execution_count": 19,
   "metadata": {},
   "outputs": [
    {
     "data": {
      "text/plain": [
       "<Axes: >"
      ]
     },
     "execution_count": 19,
     "metadata": {},
     "output_type": "execute_result"
    },
    {
     "data": {
      "image/png": "[encoded data removed]",
      "text/plain": [
       "<Figure size 1000x1000 with 1 Axes>"
      ]
     },
     "metadata": {},
     "output_type": "display_data"
    }
   ],
   "source": [
    "#To better visualize the other plots. We use seaborn boxplot\n",
    "import seaborn as sns\n",
    "import matplotlib.pyplot as plt\n",
    "\n",
    "plt.figure(figsize=(10,10))\n",
    "sns.boxplot(data = X1_train_trans)\n"
   ]
  },
  {
   "cell_type": "markdown",
   "metadata": {},
   "source": [
    "***We could see that the value that goes up to 7 is not the only outlier. We have values that goes above 1 and below 0***"
   ]
  },
  {
   "cell_type": "code",
   "execution_count": 20,
   "metadata": {},
   "outputs": [
    {
     "name": "stdout",
     "output_type": "stream",
     "text": [
      "[415.26456762 381.75909166 386.52039614 443.65604988 386.69674075\n",
      " 396.15904533 396.15904533 390.39997757 404.86023561 388.98922068\n",
      " 385.46232848 396.15904533 385.28598387 384.40426082 396.15904533\n",
      " 381.58274705 396.15904533 382.81715932 390.22363296 393.22149133\n",
      " 430.95923794 498.32287907 382.99350393 393.39783594 389.51825452\n",
      " 386.34405153 404.683891   390.57632218 399.21720808 386.16770692\n",
      " 385.46232848 405.03658022 387.40211919 390.39997757 396.15904533\n",
      " 381.40640244 384.0515716  385.63867309 399.92258652 383.87522699\n",
      " 396.15904533 396.15904533 422.14200742 392.33976828 385.28598387\n",
      " 382.99350393 381.93543627 385.99136231 396.15904533 399.39355269\n",
      " 384.40426082 395.33762666 383.34619315 396.15904533 380.17199017\n",
      " 382.81715932 383.52253777 397.10107276 392.51611289 389.87094374\n",
      " 389.51825452 379.64295634 383.34619315 505.7293527  395.16128205\n",
      " 389.34190991 410.32691853 488.44758089 379.64295634 379.81930095\n",
      " 396.15904533 379.64295634 386.16770692 381.75909166 427.60869034\n",
      " 395.69031588 393.22149133 465.69912617 385.28598387 447.88832053\n",
      " 395.86666049 380.701024   396.15904533 388.46018685 386.16770692\n",
      " 387.40211919 396.15904533 379.99564556 386.69674075 385.8150177\n",
      " 406.62368171 396.21934971]\n"
     ]
    }
   ],
   "source": [
    "#Print the predicted values\n",
    "print(y_pred)"
   ]
  },
  {
   "cell_type": "markdown",
   "metadata": {},
   "source": [
    "***To see if these outliers affected our model, we could measure the accuracy of the model by using RMSE***"
   ]
  },
  {
   "cell_type": "code",
   "execution_count": 21,
   "metadata": {},
   "outputs": [
    {
     "name": "stdout",
     "output_type": "stream",
     "text": [
      "The Root mean squared error: 48.092852 VS The Range 383.0\n"
     ]
    }
   ],
   "source": [
    "#Checking the Accuracy of the Model\n",
    "\n",
    "#Check the Range\n",
    "range = y1.max() - y1.min()\n",
    "\n",
    "#Check the RMSE\n",
    "rmse = root_mean_squared_error(y1_test, y_pred)\n",
    "\n",
    "#Check the comparison of RMSE and the range of the Target Variable\n",
    "print(f\"The Root mean squared error: {rmse:2f} VS The Range {range}\")"
   ]
  },
  {
   "cell_type": "code",
   "execution_count": 22,
   "metadata": {},
   "outputs": [
    {
     "name": "stdout",
     "output_type": "stream",
     "text": [
      "The relative RMSE percentage is: 12.56%\n"
     ]
    }
   ],
   "source": [
    "#Now lets find the relative RMSE percentage\n",
    "\n",
    "relative_rmse_percentage = ((rmse/range)*100)\n",
    "\n",
    "print(f\"The relative RMSE percentage is: {relative_rmse_percentage:.2f}%\")\n"
   ]
  },
  {
   "cell_type": "markdown",
   "metadata": {},
   "source": [
    "# Conclusions"
   ]
  },
  {
   "cell_type": "markdown",
   "metadata": {},
   "source": [
    "***As seen from the percentage, the model goes beyond our target threshold of 10% which means the model is not accurate. The RMSE value is approximately about 48 which is high relative to the range of 383 which means that 12% of the models predictions are not accurate as based on the original Critical Reading Mean Score***"
   ]
  }
 ],
 "metadata": {
  "kernelspec": {
   "display_name": ".venv",
   "language": "python",
   "name": "python3"
  },
  "language_info": {
   "codemirror_mode": {
    "name": "ipython",
    "version": 3
   },
   "file_extension": ".py",
   "mimetype": "text/x-python",
   "name": "python",
   "nbconvert_exporter": "python",
   "pygments_lexer": "ipython3",
   "version": "3.12.1"
  }
 },
 "nbformat": 4,
 "nbformat_minor": 2
}
