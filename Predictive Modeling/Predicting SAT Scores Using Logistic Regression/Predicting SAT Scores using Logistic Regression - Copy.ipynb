{
 "cells": [
  {
   "cell_type": "code",
   "execution_count": 144,
   "metadata": {},
   "outputs": [],
   "source": [
    "import pandas as pd\n",
    "import numpy as np"
   ]
  },
  {
   "cell_type": "code",
   "execution_count": 145,
   "metadata": {},
   "outputs": [],
   "source": [
    "satdf = pd.read_csv('sat_scores.csv')"
   ]
  },
  {
   "cell_type": "code",
   "execution_count": 146,
   "metadata": {},
   "outputs": [
    {
     "data": {
      "text/html": [
       "<div>\n",
       "<style scoped>\n",
       "    .dataframe tbody tr th:only-of-type {\n",
       "        vertical-align: middle;\n",
       "    }\n",
       "\n",
       "    .dataframe tbody tr th {\n",
       "        vertical-align: top;\n",
       "    }\n",
       "\n",
       "    .dataframe thead th {\n",
       "        text-align: right;\n",
       "    }\n",
       "</style>\n",
       "<table border=\"1\" class=\"dataframe\">\n",
       "  <thead>\n",
       "    <tr style=\"text-align: right;\">\n",
       "      <th></th>\n",
       "      <th>DBN</th>\n",
       "      <th>School Name</th>\n",
       "      <th>Number of Test Takers</th>\n",
       "      <th>Critical Reading Mean</th>\n",
       "      <th>Mathematics Mean</th>\n",
       "      <th>Writing Mean</th>\n",
       "    </tr>\n",
       "  </thead>\n",
       "  <tbody>\n",
       "    <tr>\n",
       "      <th>0</th>\n",
       "      <td>01M292</td>\n",
       "      <td>Henry Street School for International Studies</td>\n",
       "      <td>31.0</td>\n",
       "      <td>391.0</td>\n",
       "      <td>425.0</td>\n",
       "      <td>385.0</td>\n",
       "    </tr>\n",
       "    <tr>\n",
       "      <th>1</th>\n",
       "      <td>01M448</td>\n",
       "      <td>University Neighborhood High School</td>\n",
       "      <td>60.0</td>\n",
       "      <td>394.0</td>\n",
       "      <td>419.0</td>\n",
       "      <td>387.0</td>\n",
       "    </tr>\n",
       "    <tr>\n",
       "      <th>2</th>\n",
       "      <td>01M450</td>\n",
       "      <td>East Side Community High School</td>\n",
       "      <td>69.0</td>\n",
       "      <td>418.0</td>\n",
       "      <td>431.0</td>\n",
       "      <td>402.0</td>\n",
       "    </tr>\n",
       "    <tr>\n",
       "      <th>3</th>\n",
       "      <td>01M458</td>\n",
       "      <td>SATELLITE ACADEMY FORSYTH ST</td>\n",
       "      <td>26.0</td>\n",
       "      <td>385.0</td>\n",
       "      <td>370.0</td>\n",
       "      <td>378.0</td>\n",
       "    </tr>\n",
       "    <tr>\n",
       "      <th>4</th>\n",
       "      <td>01M509</td>\n",
       "      <td>CMSP HIGH SCHOOL</td>\n",
       "      <td>NaN</td>\n",
       "      <td>NaN</td>\n",
       "      <td>NaN</td>\n",
       "      <td>NaN</td>\n",
       "    </tr>\n",
       "    <tr>\n",
       "      <th>...</th>\n",
       "      <td>...</td>\n",
       "      <td>...</td>\n",
       "      <td>...</td>\n",
       "      <td>...</td>\n",
       "      <td>...</td>\n",
       "      <td>...</td>\n",
       "    </tr>\n",
       "    <tr>\n",
       "      <th>455</th>\n",
       "      <td>75R025</td>\n",
       "      <td>South Richmond High School</td>\n",
       "      <td>10.0</td>\n",
       "      <td>407.0</td>\n",
       "      <td>421.0</td>\n",
       "      <td>400.0</td>\n",
       "    </tr>\n",
       "    <tr>\n",
       "      <th>456</th>\n",
       "      <td>75X012</td>\n",
       "      <td>PS12X LEWIS AND CLARK SCHOOL</td>\n",
       "      <td>NaN</td>\n",
       "      <td>NaN</td>\n",
       "      <td>NaN</td>\n",
       "      <td>NaN</td>\n",
       "    </tr>\n",
       "    <tr>\n",
       "      <th>457</th>\n",
       "      <td>75X754</td>\n",
       "      <td>P754 X - Jeffrey M. Rapport School for Career ...</td>\n",
       "      <td>NaN</td>\n",
       "      <td>NaN</td>\n",
       "      <td>NaN</td>\n",
       "      <td>NaN</td>\n",
       "    </tr>\n",
       "    <tr>\n",
       "      <th>458</th>\n",
       "      <td>76K460</td>\n",
       "      <td>John Jay High School</td>\n",
       "      <td>9.0</td>\n",
       "      <td>390.0</td>\n",
       "      <td>381.0</td>\n",
       "      <td>398.0</td>\n",
       "    </tr>\n",
       "    <tr>\n",
       "      <th>459</th>\n",
       "      <td>79X490</td>\n",
       "      <td>PHOENIX SCHOOL</td>\n",
       "      <td>7.0</td>\n",
       "      <td>404.0</td>\n",
       "      <td>423.0</td>\n",
       "      <td>416.0</td>\n",
       "    </tr>\n",
       "  </tbody>\n",
       "</table>\n",
       "<p>460 rows × 6 columns</p>\n",
       "</div>"
      ],
      "text/plain": [
       "        DBN                                        School Name  \\\n",
       "0    01M292     Henry Street School for International Studies    \n",
       "1    01M448               University Neighborhood High School    \n",
       "2    01M450                   East Side Community High School    \n",
       "3    01M458                      SATELLITE ACADEMY FORSYTH ST    \n",
       "4    01M509                                  CMSP HIGH SCHOOL    \n",
       "..      ...                                                ...   \n",
       "455  75R025                        South Richmond High School    \n",
       "456  75X012                      PS12X LEWIS AND CLARK SCHOOL    \n",
       "457  75X754  P754 X - Jeffrey M. Rapport School for Career ...   \n",
       "458  76K460                              John Jay High School    \n",
       "459  79X490                                    PHOENIX SCHOOL    \n",
       "\n",
       "     Number of Test Takers  Critical Reading Mean  Mathematics Mean  \\\n",
       "0                     31.0                  391.0             425.0   \n",
       "1                     60.0                  394.0             419.0   \n",
       "2                     69.0                  418.0             431.0   \n",
       "3                     26.0                  385.0             370.0   \n",
       "4                      NaN                    NaN               NaN   \n",
       "..                     ...                    ...               ...   \n",
       "455                   10.0                  407.0             421.0   \n",
       "456                    NaN                    NaN               NaN   \n",
       "457                    NaN                    NaN               NaN   \n",
       "458                    9.0                  390.0             381.0   \n",
       "459                    7.0                  404.0             423.0   \n",
       "\n",
       "     Writing Mean  \n",
       "0           385.0  \n",
       "1           387.0  \n",
       "2           402.0  \n",
       "3           378.0  \n",
       "4             NaN  \n",
       "..            ...  \n",
       "455         400.0  \n",
       "456           NaN  \n",
       "457           NaN  \n",
       "458         398.0  \n",
       "459         416.0  \n",
       "\n",
       "[460 rows x 6 columns]"
      ]
     },
     "execution_count": 146,
     "metadata": {},
     "output_type": "execute_result"
    }
   ],
   "source": [
    "satdf"
   ]
  },
  {
   "cell_type": "code",
   "execution_count": 147,
   "metadata": {},
   "outputs": [
    {
     "data": {
      "text/plain": [
       "DBN                       0\n",
       "School Name               0\n",
       "Number of Test Takers    74\n",
       "Critical Reading Mean    74\n",
       "Mathematics Mean         74\n",
       "Writing Mean             74\n",
       "dtype: int64"
      ]
     },
     "execution_count": 147,
     "metadata": {},
     "output_type": "execute_result"
    }
   ],
   "source": [
    "satdf.isna().sum()"
   ]
  },
  {
   "cell_type": "code",
   "execution_count": 148,
   "metadata": {},
   "outputs": [
    {
     "name": "stdout",
     "output_type": "stream",
     "text": [
      "False\n",
      "True\n",
      "False\n",
      "False\n",
      "False\n",
      "False\n"
     ]
    }
   ],
   "source": [
    "for cols in satdf.columns:\n",
    "    print(satdf[cols].is_unique)"
   ]
  },
  {
   "cell_type": "code",
   "execution_count": 149,
   "metadata": {},
   "outputs": [
    {
     "data": {
      "text/plain": [
       "DBN                       object\n",
       "School Name               object\n",
       "Number of Test Takers    float64\n",
       "Critical Reading Mean    float64\n",
       "Mathematics Mean         float64\n",
       "Writing Mean             float64\n",
       "dtype: object"
      ]
     },
     "execution_count": 149,
     "metadata": {},
     "output_type": "execute_result"
    }
   ],
   "source": [
    "satdf.dtypes"
   ]
  },
  {
   "cell_type": "code",
   "execution_count": 150,
   "metadata": {},
   "outputs": [],
   "source": [
    "#Remove DBN column\n",
    "satdf = satdf.drop('DBN', axis= 1)"
   ]
  },
  {
   "cell_type": "code",
   "execution_count": 151,
   "metadata": {},
   "outputs": [
    {
     "data": {
      "text/html": [
       "<div>\n",
       "<style scoped>\n",
       "    .dataframe tbody tr th:only-of-type {\n",
       "        vertical-align: middle;\n",
       "    }\n",
       "\n",
       "    .dataframe tbody tr th {\n",
       "        vertical-align: top;\n",
       "    }\n",
       "\n",
       "    .dataframe thead th {\n",
       "        text-align: right;\n",
       "    }\n",
       "</style>\n",
       "<table border=\"1\" class=\"dataframe\">\n",
       "  <thead>\n",
       "    <tr style=\"text-align: right;\">\n",
       "      <th></th>\n",
       "      <th>School Name</th>\n",
       "      <th>Number of Test Takers</th>\n",
       "      <th>Critical Reading Mean</th>\n",
       "      <th>Mathematics Mean</th>\n",
       "      <th>Writing Mean</th>\n",
       "    </tr>\n",
       "  </thead>\n",
       "  <tbody>\n",
       "    <tr>\n",
       "      <th>0</th>\n",
       "      <td>Henry Street School for International Studies</td>\n",
       "      <td>31.0</td>\n",
       "      <td>391.0</td>\n",
       "      <td>425.0</td>\n",
       "      <td>385.0</td>\n",
       "    </tr>\n",
       "    <tr>\n",
       "      <th>1</th>\n",
       "      <td>University Neighborhood High School</td>\n",
       "      <td>60.0</td>\n",
       "      <td>394.0</td>\n",
       "      <td>419.0</td>\n",
       "      <td>387.0</td>\n",
       "    </tr>\n",
       "    <tr>\n",
       "      <th>2</th>\n",
       "      <td>East Side Community High School</td>\n",
       "      <td>69.0</td>\n",
       "      <td>418.0</td>\n",
       "      <td>431.0</td>\n",
       "      <td>402.0</td>\n",
       "    </tr>\n",
       "    <tr>\n",
       "      <th>3</th>\n",
       "      <td>SATELLITE ACADEMY FORSYTH ST</td>\n",
       "      <td>26.0</td>\n",
       "      <td>385.0</td>\n",
       "      <td>370.0</td>\n",
       "      <td>378.0</td>\n",
       "    </tr>\n",
       "    <tr>\n",
       "      <th>4</th>\n",
       "      <td>CMSP HIGH SCHOOL</td>\n",
       "      <td>NaN</td>\n",
       "      <td>NaN</td>\n",
       "      <td>NaN</td>\n",
       "      <td>NaN</td>\n",
       "    </tr>\n",
       "    <tr>\n",
       "      <th>...</th>\n",
       "      <td>...</td>\n",
       "      <td>...</td>\n",
       "      <td>...</td>\n",
       "      <td>...</td>\n",
       "      <td>...</td>\n",
       "    </tr>\n",
       "    <tr>\n",
       "      <th>455</th>\n",
       "      <td>South Richmond High School</td>\n",
       "      <td>10.0</td>\n",
       "      <td>407.0</td>\n",
       "      <td>421.0</td>\n",
       "      <td>400.0</td>\n",
       "    </tr>\n",
       "    <tr>\n",
       "      <th>456</th>\n",
       "      <td>PS12X LEWIS AND CLARK SCHOOL</td>\n",
       "      <td>NaN</td>\n",
       "      <td>NaN</td>\n",
       "      <td>NaN</td>\n",
       "      <td>NaN</td>\n",
       "    </tr>\n",
       "    <tr>\n",
       "      <th>457</th>\n",
       "      <td>P754 X - Jeffrey M. Rapport School for Career ...</td>\n",
       "      <td>NaN</td>\n",
       "      <td>NaN</td>\n",
       "      <td>NaN</td>\n",
       "      <td>NaN</td>\n",
       "    </tr>\n",
       "    <tr>\n",
       "      <th>458</th>\n",
       "      <td>John Jay High School</td>\n",
       "      <td>9.0</td>\n",
       "      <td>390.0</td>\n",
       "      <td>381.0</td>\n",
       "      <td>398.0</td>\n",
       "    </tr>\n",
       "    <tr>\n",
       "      <th>459</th>\n",
       "      <td>PHOENIX SCHOOL</td>\n",
       "      <td>7.0</td>\n",
       "      <td>404.0</td>\n",
       "      <td>423.0</td>\n",
       "      <td>416.0</td>\n",
       "    </tr>\n",
       "  </tbody>\n",
       "</table>\n",
       "<p>460 rows × 5 columns</p>\n",
       "</div>"
      ],
      "text/plain": [
       "                                           School Name  Number of Test Takers  \\\n",
       "0       Henry Street School for International Studies                    31.0   \n",
       "1                 University Neighborhood High School                    60.0   \n",
       "2                     East Side Community High School                    69.0   \n",
       "3                        SATELLITE ACADEMY FORSYTH ST                    26.0   \n",
       "4                                    CMSP HIGH SCHOOL                     NaN   \n",
       "..                                                 ...                    ...   \n",
       "455                        South Richmond High School                    10.0   \n",
       "456                      PS12X LEWIS AND CLARK SCHOOL                     NaN   \n",
       "457  P754 X - Jeffrey M. Rapport School for Career ...                    NaN   \n",
       "458                              John Jay High School                     9.0   \n",
       "459                                    PHOENIX SCHOOL                     7.0   \n",
       "\n",
       "     Critical Reading Mean  Mathematics Mean  Writing Mean  \n",
       "0                    391.0             425.0         385.0  \n",
       "1                    394.0             419.0         387.0  \n",
       "2                    418.0             431.0         402.0  \n",
       "3                    385.0             370.0         378.0  \n",
       "4                      NaN               NaN           NaN  \n",
       "..                     ...               ...           ...  \n",
       "455                  407.0             421.0         400.0  \n",
       "456                    NaN               NaN           NaN  \n",
       "457                    NaN               NaN           NaN  \n",
       "458                  390.0             381.0         398.0  \n",
       "459                  404.0             423.0         416.0  \n",
       "\n",
       "[460 rows x 5 columns]"
      ]
     },
     "execution_count": 151,
     "metadata": {},
     "output_type": "execute_result"
    }
   ],
   "source": [
    "satdf"
   ]
  },
  {
   "cell_type": "code",
   "execution_count": 152,
   "metadata": {},
   "outputs": [
    {
     "data": {
      "text/plain": [
       "['Number of Test Takers',\n",
       " 'Critical Reading Mean',\n",
       " 'Mathematics Mean',\n",
       " 'Writing Mean']"
      ]
     },
     "execution_count": 152,
     "metadata": {},
     "output_type": "execute_result"
    }
   ],
   "source": [
    "#Take the numerical column for imputation by mean\n",
    "numerical = [i for i in satdf.columns if satdf[i].dtype == 'float']\n",
    "numerical"
   ]
  },
  {
   "cell_type": "code",
   "execution_count": 153,
   "metadata": {},
   "outputs": [],
   "source": [
    "#Fill missing values in numerical columns by imputing its mean\n",
    "from sklearn.impute import SimpleImputer\n",
    "\n",
    "imputer = SimpleImputer(missing_values= np.nan, strategy= 'mean')\n",
    "satdf[numerical] = imputer.fit_transform(satdf[numerical])"
   ]
  },
  {
   "cell_type": "code",
   "execution_count": 154,
   "metadata": {},
   "outputs": [
    {
     "data": {
      "text/plain": [
       "Number of Test Takers    0\n",
       "Critical Reading Mean    0\n",
       "Mathematics Mean         0\n",
       "Writing Mean             0\n",
       "dtype: int64"
      ]
     },
     "execution_count": 154,
     "metadata": {},
     "output_type": "execute_result"
    }
   ],
   "source": [
    "#Check again for missing values\n",
    "satdf[numerical].isna().sum()"
   ]
  },
  {
   "cell_type": "markdown",
   "metadata": {},
   "source": [
    "***Since we have three target variables, lets find them out 1 by 1 starting with Column : Critical Reading Mean***"
   ]
  },
  {
   "cell_type": "code",
   "execution_count": 155,
   "metadata": {},
   "outputs": [],
   "source": [
    "#Split data into features and targets (Critical Reading Mean)\n",
    "X1 = satdf.iloc[:, 0:2]\n",
    "y1 = satdf.iloc[:, 2]"
   ]
  },
  {
   "cell_type": "code",
   "execution_count": 156,
   "metadata": {},
   "outputs": [
    {
     "name": "stdout",
     "output_type": "stream",
     "text": [
      "                                           School Name  Number of Test Takers\n",
      "0       Henry Street School for International Studies               31.000000\n",
      "1                 University Neighborhood High School               60.000000\n",
      "2                     East Side Community High School               69.000000\n",
      "3                        SATELLITE ACADEMY FORSYTH ST               26.000000\n",
      "4                                    CMSP HIGH SCHOOL              103.658031\n",
      "..                                                 ...                    ...\n",
      "455                        South Richmond High School               10.000000\n",
      "456                      PS12X LEWIS AND CLARK SCHOOL              103.658031\n",
      "457  P754 X - Jeffrey M. Rapport School for Career ...             103.658031\n",
      "458                              John Jay High School                9.000000\n",
      "459                                    PHOENIX SCHOOL                7.000000\n",
      "\n",
      "[460 rows x 2 columns]\n"
     ]
    }
   ],
   "source": [
    "#Check the X1 \n",
    "print(X1)"
   ]
  },
  {
   "cell_type": "code",
   "execution_count": 157,
   "metadata": {},
   "outputs": [
    {
     "name": "stdout",
     "output_type": "stream",
     "text": [
      "0      391.000000\n",
      "1      394.000000\n",
      "2      418.000000\n",
      "3      385.000000\n",
      "4      404.248705\n",
      "          ...    \n",
      "455    407.000000\n",
      "456    404.248705\n",
      "457    404.248705\n",
      "458    390.000000\n",
      "459    404.000000\n",
      "Name: Critical Reading Mean, Length: 460, dtype: float64\n"
     ]
    }
   ],
   "source": [
    "#Check y1\n",
    "print(y1)"
   ]
  },
  {
   "cell_type": "code",
   "execution_count": 158,
   "metadata": {},
   "outputs": [
    {
     "data": {
      "text/html": [
       "<div>\n",
       "<style scoped>\n",
       "    .dataframe tbody tr th:only-of-type {\n",
       "        vertical-align: middle;\n",
       "    }\n",
       "\n",
       "    .dataframe tbody tr th {\n",
       "        vertical-align: top;\n",
       "    }\n",
       "\n",
       "    .dataframe thead th {\n",
       "        text-align: right;\n",
       "    }\n",
       "</style>\n",
       "<table border=\"1\" class=\"dataframe\">\n",
       "  <thead>\n",
       "    <tr style=\"text-align: right;\">\n",
       "      <th></th>\n",
       "      <th>School Name</th>\n",
       "      <th>Number of Test Takers</th>\n",
       "    </tr>\n",
       "  </thead>\n",
       "  <tbody>\n",
       "    <tr>\n",
       "      <th>0</th>\n",
       "      <td>Henry Street School for International Studies</td>\n",
       "      <td>31.000000</td>\n",
       "    </tr>\n",
       "    <tr>\n",
       "      <th>1</th>\n",
       "      <td>University Neighborhood High School</td>\n",
       "      <td>60.000000</td>\n",
       "    </tr>\n",
       "    <tr>\n",
       "      <th>2</th>\n",
       "      <td>East Side Community High School</td>\n",
       "      <td>69.000000</td>\n",
       "    </tr>\n",
       "    <tr>\n",
       "      <th>3</th>\n",
       "      <td>SATELLITE ACADEMY FORSYTH ST</td>\n",
       "      <td>26.000000</td>\n",
       "    </tr>\n",
       "    <tr>\n",
       "      <th>4</th>\n",
       "      <td>CMSP HIGH SCHOOL</td>\n",
       "      <td>103.658031</td>\n",
       "    </tr>\n",
       "    <tr>\n",
       "      <th>...</th>\n",
       "      <td>...</td>\n",
       "      <td>...</td>\n",
       "    </tr>\n",
       "    <tr>\n",
       "      <th>455</th>\n",
       "      <td>South Richmond High School</td>\n",
       "      <td>10.000000</td>\n",
       "    </tr>\n",
       "    <tr>\n",
       "      <th>456</th>\n",
       "      <td>PS12X LEWIS AND CLARK SCHOOL</td>\n",
       "      <td>103.658031</td>\n",
       "    </tr>\n",
       "    <tr>\n",
       "      <th>457</th>\n",
       "      <td>P754 X - Jeffrey M. Rapport School for Career ...</td>\n",
       "      <td>103.658031</td>\n",
       "    </tr>\n",
       "    <tr>\n",
       "      <th>458</th>\n",
       "      <td>John Jay High School</td>\n",
       "      <td>9.000000</td>\n",
       "    </tr>\n",
       "    <tr>\n",
       "      <th>459</th>\n",
       "      <td>PHOENIX SCHOOL</td>\n",
       "      <td>7.000000</td>\n",
       "    </tr>\n",
       "  </tbody>\n",
       "</table>\n",
       "<p>460 rows × 2 columns</p>\n",
       "</div>"
      ],
      "text/plain": [
       "                                           School Name  Number of Test Takers\n",
       "0       Henry Street School for International Studies               31.000000\n",
       "1                 University Neighborhood High School               60.000000\n",
       "2                     East Side Community High School               69.000000\n",
       "3                        SATELLITE ACADEMY FORSYTH ST               26.000000\n",
       "4                                    CMSP HIGH SCHOOL              103.658031\n",
       "..                                                 ...                    ...\n",
       "455                        South Richmond High School               10.000000\n",
       "456                      PS12X LEWIS AND CLARK SCHOOL              103.658031\n",
       "457  P754 X - Jeffrey M. Rapport School for Career ...             103.658031\n",
       "458                              John Jay High School                9.000000\n",
       "459                                    PHOENIX SCHOOL                7.000000\n",
       "\n",
       "[460 rows x 2 columns]"
      ]
     },
     "execution_count": 158,
     "metadata": {},
     "output_type": "execute_result"
    }
   ],
   "source": [
    "X1"
   ]
  },
  {
   "cell_type": "code",
   "execution_count": 161,
   "metadata": {},
   "outputs": [],
   "source": [
    "#Encoding The Categorical Column (We only have one column in categorical which is the School name)\n",
    "from sklearn.preprocessing import OneHotEncoder\n",
    "from sklearn.compose import ColumnTransformer\n",
    "ct = ColumnTransformer(transformers = [('encoder', OneHotEncoder(), [0])], remainder= 'passthrough')\n",
    "X1 = ct.fit_transform(X1)\n"
   ]
  },
  {
   "cell_type": "code",
   "execution_count": 164,
   "metadata": {},
   "outputs": [
    {
     "name": "stdout",
     "output_type": "stream",
     "text": [
      "  (0, 214)\t1.0\n",
      "  (0, 460)\t31.0\n",
      "  (1, 409)\t1.0\n",
      "  (1, 460)\t60.0\n",
      "  (2, 136)\t1.0\n",
      "  (2, 460)\t69.0\n",
      "  (3, 365)\t1.0\n",
      "  (3, 460)\t26.0\n",
      "  (4, 100)\t1.0\n",
      "  (4, 460)\t103.65803108808291\n",
      "  (5, 271)\t1.0\n",
      "  (5, 460)\t154.0\n",
      "  (6, 317)\t1.0\n",
      "  (6, 460)\t47.0\n",
      "  (7, 96)\t1.0\n",
      "  (7, 460)\t35.0\n",
      "  (8, 30)\t1.0\n",
      "  (8, 460)\t138.0\n",
      "  (9, 13)\t1.0\n",
      "  (9, 460)\t11.0\n",
      "  (10, 145)\t1.0\n",
      "  (10, 460)\t50.0\n",
      "  (11, 190)\t1.0\n",
      "  (11, 460)\t51.0\n",
      "  (12, 225)\t1.0\n",
      "  :\t:\n",
      "  (447, 460)\t49.0\n",
      "  (448, 12)\t1.0\n",
      "  (448, 460)\t29.0\n",
      "  (449, 94)\t1.0\n",
      "  (449, 460)\t30.0\n",
      "  (450, 388)\t1.0\n",
      "  (450, 460)\t103.65803108808291\n",
      "  (451, 264)\t1.0\n",
      "  (451, 460)\t103.65803108808291\n",
      "  (452, 273)\t1.0\n",
      "  (452, 460)\t103.65803108808291\n",
      "  (453, 323)\t1.0\n",
      "  (453, 460)\t103.65803108808291\n",
      "  (454, 322)\t1.0\n",
      "  (454, 460)\t103.65803108808291\n",
      "  (455, 390)\t1.0\n",
      "  (455, 460)\t10.0\n",
      "  (456, 335)\t1.0\n",
      "  (456, 460)\t103.65803108808291\n",
      "  (457, 324)\t1.0\n",
      "  (457, 460)\t103.65803108808291\n",
      "  (458, 250)\t1.0\n",
      "  (458, 460)\t9.0\n",
      "  (459, 332)\t1.0\n",
      "  (459, 460)\t7.0\n"
     ]
    }
   ],
   "source": [
    "print(X1)"
   ]
  },
  {
   "cell_type": "code",
   "execution_count": 165,
   "metadata": {},
   "outputs": [],
   "source": [
    "#Split the dataset into training and test sets\n",
    "from sklearn.model_selection import train_test_split\n",
    "\n",
    "X1_train, X1_test, y1_train, y1_test = train_test_split(X1, y1, test_size= 0.2, random_state= 1)\n",
    "\n"
   ]
  },
  {
   "cell_type": "code",
   "execution_count": 166,
   "metadata": {},
   "outputs": [
    {
     "name": "stdout",
     "output_type": "stream",
     "text": [
      "  (0, 281)\t1.0\n",
      "  (0, 460)\t17.0\n",
      "  (1, 102)\t1.0\n",
      "  (1, 460)\t44.0\n",
      "  (2, 23)\t1.0\n",
      "  (2, 460)\t103.65803108808291\n",
      "  (3, 430)\t1.0\n",
      "  (3, 460)\t11.0\n",
      "  (4, 335)\t1.0\n",
      "  (4, 460)\t103.65803108808291\n",
      "  (5, 91)\t1.0\n",
      "  (5, 460)\t103.65803108808291\n",
      "  (6, 277)\t1.0\n",
      "  (6, 460)\t80.0\n",
      "  (7, 294)\t1.0\n",
      "  (7, 460)\t287.0\n",
      "  (8, 226)\t1.0\n",
      "  (8, 460)\t221.0\n",
      "  (9, 50)\t1.0\n",
      "  (9, 460)\t87.0\n",
      "  (10, 97)\t1.0\n",
      "  (10, 460)\t35.0\n",
      "  (11, 375)\t1.0\n",
      "  (11, 460)\t192.0\n",
      "  (12, 152)\t1.0\n",
      "  :\t:\n",
      "  (355, 460)\t57.0\n",
      "  (356, 171)\t1.0\n",
      "  (356, 460)\t31.0\n",
      "  (357, 76)\t1.0\n",
      "  (357, 460)\t46.0\n",
      "  (358, 12)\t1.0\n",
      "  (358, 460)\t29.0\n",
      "  (359, 148)\t1.0\n",
      "  (359, 460)\t581.0\n",
      "  (360, 42)\t1.0\n",
      "  (360, 460)\t10.0\n",
      "  (361, 79)\t1.0\n",
      "  (361, 460)\t54.0\n",
      "  (362, 98)\t1.0\n",
      "  (362, 460)\t63.0\n",
      "  (363, 432)\t1.0\n",
      "  (363, 460)\t58.0\n",
      "  (364, 414)\t1.0\n",
      "  (364, 460)\t53.0\n",
      "  (365, 9)\t1.0\n",
      "  (365, 460)\t103.65803108808291\n",
      "  (366, 63)\t1.0\n",
      "  (366, 460)\t1047.0\n",
      "  (367, 387)\t1.0\n",
      "  (367, 460)\t103.65803108808291\n"
     ]
    }
   ],
   "source": [
    "print(X1_train)"
   ]
  },
  {
   "cell_type": "code",
   "execution_count": 167,
   "metadata": {},
   "outputs": [
    {
     "name": "stdout",
     "output_type": "stream",
     "text": [
      "  (0, 197)\t1.0\n",
      "  (0, 460)\t212.0\n",
      "  (1, 411)\t1.0\n",
      "  (1, 460)\t22.0\n",
      "  (2, 331)\t1.0\n",
      "  (2, 460)\t49.0\n",
      "  (3, 105)\t1.0\n",
      "  (3, 460)\t373.0\n",
      "  (4, 199)\t1.0\n",
      "  (4, 460)\t50.0\n",
      "  (5, 174)\t1.0\n",
      "  (5, 460)\t103.65803108808291\n",
      "  (6, 443)\t1.0\n",
      "  (6, 460)\t103.65803108808291\n",
      "  (7, 206)\t1.0\n",
      "  (7, 460)\t71.0\n",
      "  (8, 240)\t1.0\n",
      "  (8, 460)\t153.0\n",
      "  (9, 291)\t1.0\n",
      "  (9, 460)\t63.0\n",
      "  (10, 56)\t1.0\n",
      "  (10, 460)\t43.0\n",
      "  (11, 234)\t1.0\n",
      "  (11, 460)\t103.65803108808291\n",
      "  (12, 363)\t1.0\n",
      "  :\t:\n",
      "  (79, 460)\t397.0\n",
      "  (80, 341)\t1.0\n",
      "  (80, 460)\t102.0\n",
      "  (81, 382)\t1.0\n",
      "  (81, 460)\t16.0\n",
      "  (82, 262)\t1.0\n",
      "  (82, 460)\t103.65803108808291\n",
      "  (83, 298)\t1.0\n",
      "  (83, 460)\t60.0\n",
      "  (84, 359)\t1.0\n",
      "  (84, 460)\t47.0\n",
      "  (85, 51)\t1.0\n",
      "  (85, 460)\t54.0\n",
      "  (86, 455)\t1.0\n",
      "  (86, 460)\t103.65803108808291\n",
      "  (87, 49)\t1.0\n",
      "  (87, 460)\t12.0\n",
      "  (88, 124)\t1.0\n",
      "  (88, 460)\t50.0\n",
      "  (89, 400)\t1.0\n",
      "  (89, 460)\t45.0\n",
      "  (90, 428)\t1.0\n",
      "  (90, 460)\t163.0\n",
      "  (91, 419)\t1.0\n",
      "  (91, 460)\t104.0\n"
     ]
    }
   ],
   "source": [
    "print(X1_test)"
   ]
  },
  {
   "cell_type": "code",
   "execution_count": 169,
   "metadata": {},
   "outputs": [],
   "source": [
    "#We need to feature scale our data (especially cols school name and number of test takers) (test with standardscaler)\n",
    "from sklearn.preprocessing import StandardScaler\n",
    "sc = StandardScaler(with_mean=False)\n",
    "X1_train = sc.fit_transform(X1_train)\n",
    "X1_test = sc.transform(X1_test)"
   ]
  },
  {
   "cell_type": "code",
   "execution_count": null,
   "metadata": {},
   "outputs": [],
   "source": [
    "from sklearn.linear_model import LogisticRegression\n",
    "logreg = LogisticRegression(random_state=0)\n",
    "logreg.fit"
   ]
  }
 ],
 "metadata": {
  "kernelspec": {
   "display_name": ".venv",
   "language": "python",
   "name": "python3"
  },
  "language_info": {
   "codemirror_mode": {
    "name": "ipython",
    "version": 3
   },
   "file_extension": ".py",
   "mimetype": "text/x-python",
   "name": "python",
   "nbconvert_exporter": "python",
   "pygments_lexer": "ipython3",
   "version": "3.12.1"
  }
 },
 "nbformat": 4,
 "nbformat_minor": 2
}
